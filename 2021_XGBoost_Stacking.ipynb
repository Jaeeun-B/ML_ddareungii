{
  "nbformat": 4,
  "nbformat_minor": 0,
  "metadata": {
    "colab": {
      "provenance": []
    },
    "kernelspec": {
      "name": "python3",
      "display_name": "Python 3"
    },
    "language_info": {
      "name": "python"
    }
  },
  "cells": [
    {
      "cell_type": "code",
      "execution_count": 1,
      "metadata": {
        "colab": {
          "base_uri": "https://localhost:8080/",
          "height": 221
        },
        "id": "2unc4-9biyC7",
        "outputId": "22431e04-d40d-4018-f9b8-c251ff1fd9ce"
      },
      "outputs": [
        {
          "output_type": "display_data",
          "data": {
            "text/plain": [
              "<IPython.core.display.HTML object>"
            ],
            "text/html": [
              "\n",
              "     <input type=\"file\" id=\"files-6ab6a61a-70b2-4b90-b2c7-43aed73d6bee\" name=\"files[]\" multiple disabled\n",
              "        style=\"border:none\" />\n",
              "     <output id=\"result-6ab6a61a-70b2-4b90-b2c7-43aed73d6bee\">\n",
              "      Upload widget is only available when the cell has been executed in the\n",
              "      current browser session. Please rerun this cell to enable.\n",
              "      </output>\n",
              "      <script>// Copyright 2017 Google LLC\n",
              "//\n",
              "// Licensed under the Apache License, Version 2.0 (the \"License\");\n",
              "// you may not use this file except in compliance with the License.\n",
              "// You may obtain a copy of the License at\n",
              "//\n",
              "//      http://www.apache.org/licenses/LICENSE-2.0\n",
              "//\n",
              "// Unless required by applicable law or agreed to in writing, software\n",
              "// distributed under the License is distributed on an \"AS IS\" BASIS,\n",
              "// WITHOUT WARRANTIES OR CONDITIONS OF ANY KIND, either express or implied.\n",
              "// See the License for the specific language governing permissions and\n",
              "// limitations under the License.\n",
              "\n",
              "/**\n",
              " * @fileoverview Helpers for google.colab Python module.\n",
              " */\n",
              "(function(scope) {\n",
              "function span(text, styleAttributes = {}) {\n",
              "  const element = document.createElement('span');\n",
              "  element.textContent = text;\n",
              "  for (const key of Object.keys(styleAttributes)) {\n",
              "    element.style[key] = styleAttributes[key];\n",
              "  }\n",
              "  return element;\n",
              "}\n",
              "\n",
              "// Max number of bytes which will be uploaded at a time.\n",
              "const MAX_PAYLOAD_SIZE = 100 * 1024;\n",
              "\n",
              "function _uploadFiles(inputId, outputId) {\n",
              "  const steps = uploadFilesStep(inputId, outputId);\n",
              "  const outputElement = document.getElementById(outputId);\n",
              "  // Cache steps on the outputElement to make it available for the next call\n",
              "  // to uploadFilesContinue from Python.\n",
              "  outputElement.steps = steps;\n",
              "\n",
              "  return _uploadFilesContinue(outputId);\n",
              "}\n",
              "\n",
              "// This is roughly an async generator (not supported in the browser yet),\n",
              "// where there are multiple asynchronous steps and the Python side is going\n",
              "// to poll for completion of each step.\n",
              "// This uses a Promise to block the python side on completion of each step,\n",
              "// then passes the result of the previous step as the input to the next step.\n",
              "function _uploadFilesContinue(outputId) {\n",
              "  const outputElement = document.getElementById(outputId);\n",
              "  const steps = outputElement.steps;\n",
              "\n",
              "  const next = steps.next(outputElement.lastPromiseValue);\n",
              "  return Promise.resolve(next.value.promise).then((value) => {\n",
              "    // Cache the last promise value to make it available to the next\n",
              "    // step of the generator.\n",
              "    outputElement.lastPromiseValue = value;\n",
              "    return next.value.response;\n",
              "  });\n",
              "}\n",
              "\n",
              "/**\n",
              " * Generator function which is called between each async step of the upload\n",
              " * process.\n",
              " * @param {string} inputId Element ID of the input file picker element.\n",
              " * @param {string} outputId Element ID of the output display.\n",
              " * @return {!Iterable<!Object>} Iterable of next steps.\n",
              " */\n",
              "function* uploadFilesStep(inputId, outputId) {\n",
              "  const inputElement = document.getElementById(inputId);\n",
              "  inputElement.disabled = false;\n",
              "\n",
              "  const outputElement = document.getElementById(outputId);\n",
              "  outputElement.innerHTML = '';\n",
              "\n",
              "  const pickedPromise = new Promise((resolve) => {\n",
              "    inputElement.addEventListener('change', (e) => {\n",
              "      resolve(e.target.files);\n",
              "    });\n",
              "  });\n",
              "\n",
              "  const cancel = document.createElement('button');\n",
              "  inputElement.parentElement.appendChild(cancel);\n",
              "  cancel.textContent = 'Cancel upload';\n",
              "  const cancelPromise = new Promise((resolve) => {\n",
              "    cancel.onclick = () => {\n",
              "      resolve(null);\n",
              "    };\n",
              "  });\n",
              "\n",
              "  // Wait for the user to pick the files.\n",
              "  const files = yield {\n",
              "    promise: Promise.race([pickedPromise, cancelPromise]),\n",
              "    response: {\n",
              "      action: 'starting',\n",
              "    }\n",
              "  };\n",
              "\n",
              "  cancel.remove();\n",
              "\n",
              "  // Disable the input element since further picks are not allowed.\n",
              "  inputElement.disabled = true;\n",
              "\n",
              "  if (!files) {\n",
              "    return {\n",
              "      response: {\n",
              "        action: 'complete',\n",
              "      }\n",
              "    };\n",
              "  }\n",
              "\n",
              "  for (const file of files) {\n",
              "    const li = document.createElement('li');\n",
              "    li.append(span(file.name, {fontWeight: 'bold'}));\n",
              "    li.append(span(\n",
              "        `(${file.type || 'n/a'}) - ${file.size} bytes, ` +\n",
              "        `last modified: ${\n",
              "            file.lastModifiedDate ? file.lastModifiedDate.toLocaleDateString() :\n",
              "                                    'n/a'} - `));\n",
              "    const percent = span('0% done');\n",
              "    li.appendChild(percent);\n",
              "\n",
              "    outputElement.appendChild(li);\n",
              "\n",
              "    const fileDataPromise = new Promise((resolve) => {\n",
              "      const reader = new FileReader();\n",
              "      reader.onload = (e) => {\n",
              "        resolve(e.target.result);\n",
              "      };\n",
              "      reader.readAsArrayBuffer(file);\n",
              "    });\n",
              "    // Wait for the data to be ready.\n",
              "    let fileData = yield {\n",
              "      promise: fileDataPromise,\n",
              "      response: {\n",
              "        action: 'continue',\n",
              "      }\n",
              "    };\n",
              "\n",
              "    // Use a chunked sending to avoid message size limits. See b/62115660.\n",
              "    let position = 0;\n",
              "    do {\n",
              "      const length = Math.min(fileData.byteLength - position, MAX_PAYLOAD_SIZE);\n",
              "      const chunk = new Uint8Array(fileData, position, length);\n",
              "      position += length;\n",
              "\n",
              "      const base64 = btoa(String.fromCharCode.apply(null, chunk));\n",
              "      yield {\n",
              "        response: {\n",
              "          action: 'append',\n",
              "          file: file.name,\n",
              "          data: base64,\n",
              "        },\n",
              "      };\n",
              "\n",
              "      let percentDone = fileData.byteLength === 0 ?\n",
              "          100 :\n",
              "          Math.round((position / fileData.byteLength) * 100);\n",
              "      percent.textContent = `${percentDone}% done`;\n",
              "\n",
              "    } while (position < fileData.byteLength);\n",
              "  }\n",
              "\n",
              "  // All done.\n",
              "  yield {\n",
              "    response: {\n",
              "      action: 'complete',\n",
              "    }\n",
              "  };\n",
              "}\n",
              "\n",
              "scope.google = scope.google || {};\n",
              "scope.google.colab = scope.google.colab || {};\n",
              "scope.google.colab._files = {\n",
              "  _uploadFiles,\n",
              "  _uploadFilesContinue,\n",
              "};\n",
              "})(self);\n",
              "</script> "
            ]
          },
          "metadata": {}
        },
        {
          "output_type": "stream",
          "name": "stdout",
          "text": [
            "Saving catboost_valid_preds_2021.csv to catboost_valid_preds_2021.csv\n",
            "Saving knn_valid_preds_2021.csv to knn_valid_preds_2021.csv\n",
            "Saving lgbm_valid_preds_2021.csv to lgbm_valid_preds_2021.csv\n",
            "Saving randomforest_valid_preds_2021.csv to randomforest_valid_preds_2021.csv\n",
            "Saving train.csv to train.csv\n"
          ]
        }
      ],
      "source": [
        "from google.colab import files\n",
        "uploaded = files.upload()"
      ]
    },
    {
      "cell_type": "code",
      "source": [
        "import pandas as pd\n",
        "import numpy as np\n",
        "\n",
        "from sklearn.metrics import mean_absolute_error\n",
        "from sklearn.metrics import mean_squared_error\n",
        "\n",
        "from xgboost import XGBRegressor"
      ],
      "metadata": {
        "id": "72eqWXlmaFu9"
      },
      "execution_count": 2,
      "outputs": []
    },
    {
      "cell_type": "code",
      "source": [
        "# 데이터 불러오기\n",
        "train_df = pd.read_csv(\"train.csv\")\n",
        "\n",
        "# 날짜 컬럼 처리 및 파생 변수 생성\n",
        "train_df['일시'] = pd.to_datetime(train_df['일시'].astype(str), format=\"%Y%m%d\")\n",
        "train_df['year'] = train_df['일시'].dt.year\n",
        "train_df['month'] = train_df['일시'].dt.month\n",
        "train_df['day'] = train_df['일시'].dt.day\n",
        "train_df['weekday'] = train_df['일시'].dt.weekday  # 0: 월요일, 6: 일요일\n",
        "train_df['is_weekend'] = (train_df['weekday'] >= 5).astype(int)\n",
        "\n",
        "# 컬럼명 영문화\n",
        "train_df = train_df.rename(columns={\n",
        "    '광진구': 'Gwangjin',\n",
        "    '동대문구': 'Dongdaemun',\n",
        "    '성동구': 'Seongdong',\n",
        "    '중랑구': 'Jungnang'\n",
        "})"
      ],
      "metadata": {
        "id": "o3b3TOE3lTfD"
      },
      "execution_count": 3,
      "outputs": []
    },
    {
      "cell_type": "code",
      "source": [
        "# 각 모델별 예측 결과 로드\n",
        "catboost_preds = pd.read_csv('catboost_valid_preds_2021.csv')\n",
        "lgbm_preds = pd.read_csv('lgbm_valid_preds_2021.csv')\n",
        "randomforest_preds = pd.read_csv('randomforest_valid_preds_2021.csv')\n",
        "knn_preds = pd.read_csv('knn_valid_preds_2021.csv')\n",
        "\n",
        "\n",
        "\n",
        "# 일시 컬럼 제거\n",
        "catboost_preds = catboost_preds.drop(columns=['catboost_일시'], errors='ignore')\n",
        "lgbm_preds = lgbm_preds.drop(columns=['lgbm_일시'], errors='ignore')\n",
        "randomforest_preds = randomforest_preds.drop(columns=['randomforest_일시'], errors='ignore')\n",
        "knn_preds = knn_preds.drop(columns=['knn_일시'], errors='ignore')\n",
        "\n",
        "\n",
        "\n",
        "# catboost 컬럼 매핑\n",
        "rename_map_catboost = {\n",
        "    '광진구': 'catboost_Gwangjin',\n",
        "    '동대문구': 'catboost_Dongdaemun',\n",
        "    '성동구': 'catboost_Seongdong',\n",
        "    '중랑구': 'catboost_Jungnang'\n",
        "}\n",
        "catboost_preds = catboost_preds.rename(columns=rename_map_catboost)\n",
        "\n",
        "# lgbm 컬럼 매핑\n",
        "rename_map_lgbm = {\n",
        "    '광진구': 'lgbm_Gwangjin',\n",
        "    '동대문구': 'lgbm_Dongdaemun',\n",
        "    '성동구': 'lgbm_Seongdong',\n",
        "    '중랑구': 'lgbm_Jungnang'\n",
        "}\n",
        "lgbm_preds = lgbm_preds.rename(columns=rename_map_lgbm)\n",
        "\n",
        "# randomforest 컬럼 매핑\n",
        "rename_map_rf = {\n",
        "    'Gwangjin': 'randomforest_Gwangjin',\n",
        "    'Dongdaemun': 'randomforest_Dongdaemun',\n",
        "    'Seongdong': 'randomforest_Seongdong',\n",
        "    'Jungnang': 'randomforest_Jungnang'\n",
        "}\n",
        "randomforest_preds = randomforest_preds.rename(columns=rename_map_rf)\n",
        "\n",
        "# knn 컬럼 매핑\n",
        "rename_map_knn = {\n",
        "    '광진구': 'knn_Gwangjin',\n",
        "    '동대문구': 'knn_Dongdaemun',\n",
        "    '성동구': 'knn_Seongdong',\n",
        "    '중랑구': 'knn_Jungnang'\n",
        "}\n",
        "knn_preds = knn_preds.rename(columns=rename_map_knn)\n"
      ],
      "metadata": {
        "id": "3idROoWQfHd_"
      },
      "execution_count": 4,
      "outputs": []
    },
    {
      "cell_type": "code",
      "source": [
        "# 두 예측 DataFrame 합치기\n",
        "X_meta_all = pd.concat([catboost_preds, lgbm_preds, randomforest_preds, knn_preds], axis=1)\n",
        "\n",
        "\n",
        "y_valid = train_df.loc[train_df['year'] == 2021, ['Gwangjin', 'Dongdaemun', 'Seongdong', 'Jungnang']]\n",
        "\n",
        "\n",
        "\n",
        "# 모든 조합을 딕셔너리로 관리\n",
        "X_meta_dict = {\n",
        "    \"all\": X_meta_all\n",
        "}\n"
      ],
      "metadata": {
        "id": "nsm9x9rjfYV_"
      },
      "execution_count": 5,
      "outputs": []
    },
    {
      "cell_type": "code",
      "source": [
        "### XGBoost\n",
        "\n",
        "from joblib import dump\n",
        "\n",
        "results_xgb = {}\n",
        "xgb_meta = {}\n",
        "\n",
        "for combo_name, X_meta in X_meta_dict.items():\n",
        "    print(f\"=== {combo_name} ===\")\n",
        "    results_xgb[combo_name] = {}\n",
        "\n",
        "\n",
        "    for gu in ['Gwangjin', 'Dongdaemun', 'Seongdong', 'Jungnang']:\n",
        "        gu_cols = [col for col in X_meta.columns if col.endswith(f\"_{gu}\")]\n",
        "        X_meta_gu = X_meta[gu_cols].reset_index(drop=True)\n",
        "        y_gu = y_valid[gu].reset_index(drop=True)\n",
        "\n",
        "        meta_model = XGBRegressor(n_estimators=100, learning_rate=0.1, random_state=42, verbosity=0)\n",
        "        meta_model.fit(X_meta_gu, y_gu)\n",
        "\n",
        "        pred_gu = meta_model.predict(X_meta_gu)\n",
        "        rmse = np.sqrt(mean_squared_error(y_gu, pred_gu))\n",
        "        mae = mean_absolute_error(y_gu, pred_gu)\n",
        "\n",
        "        xgb_meta[gu] = meta_model\n",
        "\n",
        "\n",
        "        print(f\"{gu} MAE: {mae:.4f}, RMSE: {rmse:.4f}\")\n",
        "        results_xgb[combo_name][gu] = {\n",
        "            'MAE': mae,\n",
        "            'RMSE': rmse\n",
        "        }\n",
        "\n",
        "\n",
        "        dump(meta_model, f\"xgb_meta_{gu}.joblib\")\n",
        "\n",
        "\n",
        "\n",
        "    print(\"\")\n"
      ],
      "metadata": {
        "colab": {
          "base_uri": "https://localhost:8080/"
        },
        "id": "6a0K1_uOeZJf",
        "outputId": "dfafe2c0-16f8-4f92-baf9-65b006ea6838"
      },
      "execution_count": 8,
      "outputs": [
        {
          "output_type": "stream",
          "name": "stdout",
          "text": [
            "=== all ===\n",
            "Gwangjin MAE: 0.6110, RMSE: 0.8376\n",
            "Dongdaemun MAE: 0.4975, RMSE: 0.6778\n",
            "Seongdong MAE: 0.4954, RMSE: 0.6907\n",
            "Jungnang MAE: 0.3554, RMSE: 0.4754\n",
            "\n"
          ]
        }
      ]
    },
    {
      "cell_type": "code",
      "source": [
        "from joblib import dump\n",
        "\n",
        "save_dir = '/content/drive/MyDrive/stacking_models/'\n",
        "\n",
        "for gu, model in xgb_meta.items():\n",
        "    dump(model, save_dir + f\"xgb_meta_{gu}.joblib\")\n"
      ],
      "metadata": {
        "id": "KHikGjfpM023"
      },
      "execution_count": 15,
      "outputs": []
    },
    {
      "cell_type": "code",
      "source": [
        "!mkdir -p /content/drive/MyDrive/stacking_models\n"
      ],
      "metadata": {
        "id": "KtRjWOXoNJgr"
      },
      "execution_count": 16,
      "outputs": []
    },
    {
      "cell_type": "code",
      "source": [
        "import os\n",
        "print(os.listdir('/content/drive/MyDrive/stacking_models'))\n"
      ],
      "metadata": {
        "colab": {
          "base_uri": "https://localhost:8080/"
        },
        "id": "125Zt6VINKs5",
        "outputId": "795c7f42-d919-4747-9288-4446629c5179"
      },
      "execution_count": 17,
      "outputs": [
        {
          "output_type": "stream",
          "name": "stdout",
          "text": [
            "['xgb_meta_Gwangjin.joblib', 'xgb_meta_Dongdaemun.joblib', 'xgb_meta_Seongdong.joblib', 'xgb_meta_Jungnang.joblib']\n"
          ]
        }
      ]
    }
  ]
}