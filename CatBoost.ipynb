{
  "nbformat": 4,
  "nbformat_minor": 0,
  "metadata": {
    "colab": {
      "provenance": []
    },
    "kernelspec": {
      "name": "python3",
      "display_name": "Python 3"
    },
    "language_info": {
      "name": "python"
    }
  },
  "cells": [
    {
      "cell_type": "code",
      "execution_count": 1,
      "metadata": {
        "colab": {
          "base_uri": "https://localhost:8080/",
          "height": 78
        },
        "id": "KwaK4U2VkRul",
        "outputId": "b5895392-81cb-415d-ac0f-cd0913c7c16a"
      },
      "outputs": [
        {
          "output_type": "display_data",
          "data": {
            "text/plain": [
              "<IPython.core.display.HTML object>"
            ],
            "text/html": [
              "\n",
              "     <input type=\"file\" id=\"files-46514274-cb63-4ff6-89ac-8400f61a318a\" name=\"files[]\" multiple disabled\n",
              "        style=\"border:none\" />\n",
              "     <output id=\"result-46514274-cb63-4ff6-89ac-8400f61a318a\">\n",
              "      Upload widget is only available when the cell has been executed in the\n",
              "      current browser session. Please rerun this cell to enable.\n",
              "      </output>\n",
              "      <script>// Copyright 2017 Google LLC\n",
              "//\n",
              "// Licensed under the Apache License, Version 2.0 (the \"License\");\n",
              "// you may not use this file except in compliance with the License.\n",
              "// You may obtain a copy of the License at\n",
              "//\n",
              "//      http://www.apache.org/licenses/LICENSE-2.0\n",
              "//\n",
              "// Unless required by applicable law or agreed to in writing, software\n",
              "// distributed under the License is distributed on an \"AS IS\" BASIS,\n",
              "// WITHOUT WARRANTIES OR CONDITIONS OF ANY KIND, either express or implied.\n",
              "// See the License for the specific language governing permissions and\n",
              "// limitations under the License.\n",
              "\n",
              "/**\n",
              " * @fileoverview Helpers for google.colab Python module.\n",
              " */\n",
              "(function(scope) {\n",
              "function span(text, styleAttributes = {}) {\n",
              "  const element = document.createElement('span');\n",
              "  element.textContent = text;\n",
              "  for (const key of Object.keys(styleAttributes)) {\n",
              "    element.style[key] = styleAttributes[key];\n",
              "  }\n",
              "  return element;\n",
              "}\n",
              "\n",
              "// Max number of bytes which will be uploaded at a time.\n",
              "const MAX_PAYLOAD_SIZE = 100 * 1024;\n",
              "\n",
              "function _uploadFiles(inputId, outputId) {\n",
              "  const steps = uploadFilesStep(inputId, outputId);\n",
              "  const outputElement = document.getElementById(outputId);\n",
              "  // Cache steps on the outputElement to make it available for the next call\n",
              "  // to uploadFilesContinue from Python.\n",
              "  outputElement.steps = steps;\n",
              "\n",
              "  return _uploadFilesContinue(outputId);\n",
              "}\n",
              "\n",
              "// This is roughly an async generator (not supported in the browser yet),\n",
              "// where there are multiple asynchronous steps and the Python side is going\n",
              "// to poll for completion of each step.\n",
              "// This uses a Promise to block the python side on completion of each step,\n",
              "// then passes the result of the previous step as the input to the next step.\n",
              "function _uploadFilesContinue(outputId) {\n",
              "  const outputElement = document.getElementById(outputId);\n",
              "  const steps = outputElement.steps;\n",
              "\n",
              "  const next = steps.next(outputElement.lastPromiseValue);\n",
              "  return Promise.resolve(next.value.promise).then((value) => {\n",
              "    // Cache the last promise value to make it available to the next\n",
              "    // step of the generator.\n",
              "    outputElement.lastPromiseValue = value;\n",
              "    return next.value.response;\n",
              "  });\n",
              "}\n",
              "\n",
              "/**\n",
              " * Generator function which is called between each async step of the upload\n",
              " * process.\n",
              " * @param {string} inputId Element ID of the input file picker element.\n",
              " * @param {string} outputId Element ID of the output display.\n",
              " * @return {!Iterable<!Object>} Iterable of next steps.\n",
              " */\n",
              "function* uploadFilesStep(inputId, outputId) {\n",
              "  const inputElement = document.getElementById(inputId);\n",
              "  inputElement.disabled = false;\n",
              "\n",
              "  const outputElement = document.getElementById(outputId);\n",
              "  outputElement.innerHTML = '';\n",
              "\n",
              "  const pickedPromise = new Promise((resolve) => {\n",
              "    inputElement.addEventListener('change', (e) => {\n",
              "      resolve(e.target.files);\n",
              "    });\n",
              "  });\n",
              "\n",
              "  const cancel = document.createElement('button');\n",
              "  inputElement.parentElement.appendChild(cancel);\n",
              "  cancel.textContent = 'Cancel upload';\n",
              "  const cancelPromise = new Promise((resolve) => {\n",
              "    cancel.onclick = () => {\n",
              "      resolve(null);\n",
              "    };\n",
              "  });\n",
              "\n",
              "  // Wait for the user to pick the files.\n",
              "  const files = yield {\n",
              "    promise: Promise.race([pickedPromise, cancelPromise]),\n",
              "    response: {\n",
              "      action: 'starting',\n",
              "    }\n",
              "  };\n",
              "\n",
              "  cancel.remove();\n",
              "\n",
              "  // Disable the input element since further picks are not allowed.\n",
              "  inputElement.disabled = true;\n",
              "\n",
              "  if (!files) {\n",
              "    return {\n",
              "      response: {\n",
              "        action: 'complete',\n",
              "      }\n",
              "    };\n",
              "  }\n",
              "\n",
              "  for (const file of files) {\n",
              "    const li = document.createElement('li');\n",
              "    li.append(span(file.name, {fontWeight: 'bold'}));\n",
              "    li.append(span(\n",
              "        `(${file.type || 'n/a'}) - ${file.size} bytes, ` +\n",
              "        `last modified: ${\n",
              "            file.lastModifiedDate ? file.lastModifiedDate.toLocaleDateString() :\n",
              "                                    'n/a'} - `));\n",
              "    const percent = span('0% done');\n",
              "    li.appendChild(percent);\n",
              "\n",
              "    outputElement.appendChild(li);\n",
              "\n",
              "    const fileDataPromise = new Promise((resolve) => {\n",
              "      const reader = new FileReader();\n",
              "      reader.onload = (e) => {\n",
              "        resolve(e.target.result);\n",
              "      };\n",
              "      reader.readAsArrayBuffer(file);\n",
              "    });\n",
              "    // Wait for the data to be ready.\n",
              "    let fileData = yield {\n",
              "      promise: fileDataPromise,\n",
              "      response: {\n",
              "        action: 'continue',\n",
              "      }\n",
              "    };\n",
              "\n",
              "    // Use a chunked sending to avoid message size limits. See b/62115660.\n",
              "    let position = 0;\n",
              "    do {\n",
              "      const length = Math.min(fileData.byteLength - position, MAX_PAYLOAD_SIZE);\n",
              "      const chunk = new Uint8Array(fileData, position, length);\n",
              "      position += length;\n",
              "\n",
              "      const base64 = btoa(String.fromCharCode.apply(null, chunk));\n",
              "      yield {\n",
              "        response: {\n",
              "          action: 'append',\n",
              "          file: file.name,\n",
              "          data: base64,\n",
              "        },\n",
              "      };\n",
              "\n",
              "      let percentDone = fileData.byteLength === 0 ?\n",
              "          100 :\n",
              "          Math.round((position / fileData.byteLength) * 100);\n",
              "      percent.textContent = `${percentDone}% done`;\n",
              "\n",
              "    } while (position < fileData.byteLength);\n",
              "  }\n",
              "\n",
              "  // All done.\n",
              "  yield {\n",
              "    response: {\n",
              "      action: 'complete',\n",
              "    }\n",
              "  };\n",
              "}\n",
              "\n",
              "scope.google = scope.google || {};\n",
              "scope.google.colab = scope.google.colab || {};\n",
              "scope.google.colab._files = {\n",
              "  _uploadFiles,\n",
              "  _uploadFilesContinue,\n",
              "};\n",
              "})(self);\n",
              "</script> "
            ]
          },
          "metadata": {}
        },
        {
          "output_type": "stream",
          "name": "stdout",
          "text": [
            "Saving train.csv to train.csv\n"
          ]
        }
      ],
      "source": [
        "from google.colab import files\n",
        "uploaded = files.upload()"
      ]
    },
    {
      "cell_type": "code",
      "source": [
        " !pip install catboost holidays scikit-learn matplotlib"
      ],
      "metadata": {
        "colab": {
          "base_uri": "https://localhost:8080/"
        },
        "collapsed": true,
        "id": "PvulpCB_kda_",
        "outputId": "17086a4b-a156-47ad-a3cf-08c40fcca14f"
      },
      "execution_count": 2,
      "outputs": [
        {
          "output_type": "stream",
          "name": "stdout",
          "text": [
            "Collecting catboost\n",
            "  Downloading catboost-1.2.8-cp311-cp311-manylinux2014_x86_64.whl.metadata (1.2 kB)\n",
            "Requirement already satisfied: holidays in /usr/local/lib/python3.11/dist-packages (0.77)\n",
            "Requirement already satisfied: scikit-learn in /usr/local/lib/python3.11/dist-packages (1.6.1)\n",
            "Requirement already satisfied: matplotlib in /usr/local/lib/python3.11/dist-packages (3.10.0)\n",
            "Requirement already satisfied: graphviz in /usr/local/lib/python3.11/dist-packages (from catboost) (0.21)\n",
            "Requirement already satisfied: numpy<3.0,>=1.16.0 in /usr/local/lib/python3.11/dist-packages (from catboost) (2.0.2)\n",
            "Requirement already satisfied: pandas>=0.24 in /usr/local/lib/python3.11/dist-packages (from catboost) (2.2.2)\n",
            "Requirement already satisfied: scipy in /usr/local/lib/python3.11/dist-packages (from catboost) (1.16.0)\n",
            "Requirement already satisfied: plotly in /usr/local/lib/python3.11/dist-packages (from catboost) (5.24.1)\n",
            "Requirement already satisfied: six in /usr/local/lib/python3.11/dist-packages (from catboost) (1.17.0)\n",
            "Requirement already satisfied: python-dateutil in /usr/local/lib/python3.11/dist-packages (from holidays) (2.9.0.post0)\n",
            "Requirement already satisfied: joblib>=1.2.0 in /usr/local/lib/python3.11/dist-packages (from scikit-learn) (1.5.1)\n",
            "Requirement already satisfied: threadpoolctl>=3.1.0 in /usr/local/lib/python3.11/dist-packages (from scikit-learn) (3.6.0)\n",
            "Requirement already satisfied: contourpy>=1.0.1 in /usr/local/lib/python3.11/dist-packages (from matplotlib) (1.3.2)\n",
            "Requirement already satisfied: cycler>=0.10 in /usr/local/lib/python3.11/dist-packages (from matplotlib) (0.12.1)\n",
            "Requirement already satisfied: fonttools>=4.22.0 in /usr/local/lib/python3.11/dist-packages (from matplotlib) (4.59.0)\n",
            "Requirement already satisfied: kiwisolver>=1.3.1 in /usr/local/lib/python3.11/dist-packages (from matplotlib) (1.4.8)\n",
            "Requirement already satisfied: packaging>=20.0 in /usr/local/lib/python3.11/dist-packages (from matplotlib) (25.0)\n",
            "Requirement already satisfied: pillow>=8 in /usr/local/lib/python3.11/dist-packages (from matplotlib) (11.3.0)\n",
            "Requirement already satisfied: pyparsing>=2.3.1 in /usr/local/lib/python3.11/dist-packages (from matplotlib) (3.2.3)\n",
            "Requirement already satisfied: pytz>=2020.1 in /usr/local/lib/python3.11/dist-packages (from pandas>=0.24->catboost) (2025.2)\n",
            "Requirement already satisfied: tzdata>=2022.7 in /usr/local/lib/python3.11/dist-packages (from pandas>=0.24->catboost) (2025.2)\n",
            "Requirement already satisfied: tenacity>=6.2.0 in /usr/local/lib/python3.11/dist-packages (from plotly->catboost) (8.5.0)\n",
            "Downloading catboost-1.2.8-cp311-cp311-manylinux2014_x86_64.whl (99.2 MB)\n",
            "\u001b[2K   \u001b[90m━━━━━━━━━━━━━━━━━━━━━━━━━━━━━━━━━━━━━━━━\u001b[0m \u001b[32m99.2/99.2 MB\u001b[0m \u001b[31m7.8 MB/s\u001b[0m eta \u001b[36m0:00:00\u001b[0m\n",
            "\u001b[?25hInstalling collected packages: catboost\n",
            "Successfully installed catboost-1.2.8\n"
          ]
        }
      ]
    },
    {
      "cell_type": "code",
      "source": [
        "!pip install --upgrade scikit-learn"
      ],
      "metadata": {
        "colab": {
          "base_uri": "https://localhost:8080/"
        },
        "collapsed": true,
        "id": "iljAtwtWk3Uw",
        "outputId": "714c36ad-76df-4345-d39a-580fc9a950f1"
      },
      "execution_count": 5,
      "outputs": [
        {
          "output_type": "stream",
          "name": "stdout",
          "text": [
            "Requirement already satisfied: scikit-learn in /usr/local/lib/python3.11/dist-packages (1.7.1)\n",
            "Requirement already satisfied: numpy>=1.22.0 in /usr/local/lib/python3.11/dist-packages (from scikit-learn) (2.0.2)\n",
            "Requirement already satisfied: scipy>=1.8.0 in /usr/local/lib/python3.11/dist-packages (from scikit-learn) (1.16.0)\n",
            "Requirement already satisfied: joblib>=1.2.0 in /usr/local/lib/python3.11/dist-packages (from scikit-learn) (1.5.1)\n",
            "Requirement already satisfied: threadpoolctl>=3.1.0 in /usr/local/lib/python3.11/dist-packages (from scikit-learn) (3.6.0)\n"
          ]
        }
      ]
    },
    {
      "cell_type": "code",
      "source": [
        "!pip install optuna"
      ],
      "metadata": {
        "collapsed": true,
        "colab": {
          "base_uri": "https://localhost:8080/"
        },
        "id": "rzrB0bb0wA5W",
        "outputId": "207e6f05-37e4-4eb8-cb70-2b56a4cd6d5a"
      },
      "execution_count": 4,
      "outputs": [
        {
          "output_type": "stream",
          "name": "stdout",
          "text": [
            "Collecting optuna\n",
            "  Downloading optuna-4.4.0-py3-none-any.whl.metadata (17 kB)\n",
            "Collecting alembic>=1.5.0 (from optuna)\n",
            "  Downloading alembic-1.16.4-py3-none-any.whl.metadata (7.3 kB)\n",
            "Collecting colorlog (from optuna)\n",
            "  Downloading colorlog-6.9.0-py3-none-any.whl.metadata (10 kB)\n",
            "Requirement already satisfied: numpy in /usr/local/lib/python3.11/dist-packages (from optuna) (2.0.2)\n",
            "Requirement already satisfied: packaging>=20.0 in /usr/local/lib/python3.11/dist-packages (from optuna) (25.0)\n",
            "Requirement already satisfied: sqlalchemy>=1.4.2 in /usr/local/lib/python3.11/dist-packages (from optuna) (2.0.41)\n",
            "Requirement already satisfied: tqdm in /usr/local/lib/python3.11/dist-packages (from optuna) (4.67.1)\n",
            "Requirement already satisfied: PyYAML in /usr/local/lib/python3.11/dist-packages (from optuna) (6.0.2)\n",
            "Requirement already satisfied: Mako in /usr/lib/python3/dist-packages (from alembic>=1.5.0->optuna) (1.1.3)\n",
            "Requirement already satisfied: typing-extensions>=4.12 in /usr/local/lib/python3.11/dist-packages (from alembic>=1.5.0->optuna) (4.14.1)\n",
            "Requirement already satisfied: greenlet>=1 in /usr/local/lib/python3.11/dist-packages (from sqlalchemy>=1.4.2->optuna) (3.2.3)\n",
            "Downloading optuna-4.4.0-py3-none-any.whl (395 kB)\n",
            "\u001b[2K   \u001b[90m━━━━━━━━━━━━━━━━━━━━━━━━━━━━━━━━━━━━━━━━\u001b[0m \u001b[32m395.9/395.9 kB\u001b[0m \u001b[31m6.6 MB/s\u001b[0m eta \u001b[36m0:00:00\u001b[0m\n",
            "\u001b[?25hDownloading alembic-1.16.4-py3-none-any.whl (247 kB)\n",
            "\u001b[2K   \u001b[90m━━━━━━━━━━━━━━━━━━━━━━━━━━━━━━━━━━━━━━━━\u001b[0m \u001b[32m247.0/247.0 kB\u001b[0m \u001b[31m12.5 MB/s\u001b[0m eta \u001b[36m0:00:00\u001b[0m\n",
            "\u001b[?25hDownloading colorlog-6.9.0-py3-none-any.whl (11 kB)\n",
            "Installing collected packages: colorlog, alembic, optuna\n",
            "Successfully installed alembic-1.16.4 colorlog-6.9.0 optuna-4.4.0\n"
          ]
        }
      ]
    },
    {
      "cell_type": "code",
      "source": [
        "# 라이브러리 임포트\n",
        "import pandas as pd\n",
        "import numpy as np\n",
        "from catboost import CatBoostRegressor\n",
        "from sklearn.metrics import mean_squared_error\n",
        "import matplotlib.pyplot as plt\n",
        "\n",
        "# 데이터 불러오기\n",
        "train_df = pd.read_csv(\"train.csv\")\n",
        "\n",
        "# 날짜 컬럼 처리 및 파생 변수 생성\n",
        "train_df['일시'] = pd.to_datetime(train_df['일시'].astype(str), format=\"%Y%m%d\")\n",
        "train_df['year'] = train_df['일시'].dt.year\n",
        "train_df['month'] = train_df['일시'].dt.month\n",
        "train_df['day'] = train_df['일시'].dt.day\n",
        "train_df['weekday'] = train_df['일시'].dt.weekday  # 0: 월요일, 6: 일요일\n",
        "train_df['is_weekend'] = (train_df['weekday'] >= 5).astype(int)\n",
        "\n",
        "# 컬럼명 영문화\n",
        "train_df = train_df.rename(columns={\n",
        "    '광진구': 'Gwangjin',\n",
        "    '동대문구': 'Dongdaemun',\n",
        "    '성동구': 'Seongdong',\n",
        "    '중랑구': 'Jungnang'\n",
        "})"
      ],
      "metadata": {
        "id": "Njf3b1_kkjKu"
      },
      "execution_count": 6,
      "outputs": []
    },
    {
      "cell_type": "code",
      "source": [
        "# 공휴일 정보 파생 변수\n",
        "import holidays\n",
        "kr_holidays = holidays.KR(years=[2018, 2019, 2020, 2021, 2022])\n",
        "\n",
        "# 임시공휴일 및 선거일 직접 추가\n",
        "extra_holidays = {\n",
        "    '2018-06-13': '제7회 전국동시지방선거',\n",
        "    '2020-04-15': '제21대 국회의원선거',\n",
        "    '2020-08-17': '임시공휴일',\n",
        "    '2022-03-09': '제20대 대통령선거',\n",
        "    '2022-06-01': '제8회 전국동시지방선거'\n",
        "}\n",
        "for date, name in extra_holidays.items():\n",
        "    kr_holidays[date] = name\n",
        "\n",
        "\n",
        "train_df['holiday_name'] = train_df['일시'].dt.date.map(kr_holidays)\n",
        "train_df['holiday_name'] = train_df['holiday_name'].fillna('None')\n",
        "train_df['is_holiday'] = (train_df['holiday_name'] != 'None').astype(int)\n",
        "\n",
        "# 활동형/휴식형 공휴일 구분\n",
        "activity_holidays = ['어린이날']\n",
        "rest_holidays = ['설날', '추석', '크리스마스']\n",
        "train_df['is_activity_holiday'] = train_df['holiday_name'].isin(activity_holidays).astype(int)\n",
        "train_df['is_rest_holiday'] = train_df['holiday_name'].isin(rest_holidays).astype(int)"
      ],
      "metadata": {
        "id": "cdoCMUyYkm3v"
      },
      "execution_count": 7,
      "outputs": []
    },
    {
      "cell_type": "code",
      "source": [
        "# Feature/Target/범주형 변수 정의\n",
        "feature_cols = [\n",
        "    'year', 'month', 'day', 'weekday', 'is_weekend',\n",
        "    'is_holiday', 'holiday_name', 'is_activity_holiday', 'is_rest_holiday',\n",
        "    ]\n",
        "cat_features = [\n",
        "    'month', 'weekday', 'is_weekend', 'is_holiday', 'holiday_name',\n",
        "    'is_activity_holiday', 'is_rest_holiday',\n",
        "       ]\n",
        "target_cols = ['Gwangjin', 'Dongdaemun', 'Seongdong', 'Jungnang']\n"
      ],
      "metadata": {
        "id": "_IFu1ERVkrLo"
      },
      "execution_count": 17,
      "outputs": []
    },
    {
      "cell_type": "code",
      "source": [
        "from catboost import CatBoostRegressor\n",
        "from sklearn.metrics import mean_squared_error, mean_absolute_error\n",
        "import numpy as np\n",
        "import pandas as pd\n",
        "\n",
        "results = {}\n",
        "summary_data = []\n",
        "\n",
        "# 학습/검증 인덱스 정의\n",
        "train_idx = train_df['year'] < 2021    # 2018~2020년\n",
        "val_idx = train_df['year'] == 2021     # 2021년\n",
        "\n",
        "X_train = train_df.loc[train_idx, feature_cols]\n",
        "X_val = train_df.loc[val_idx, feature_cols]"
      ],
      "metadata": {
        "id": "YQ-yHfkDksE7"
      },
      "execution_count": 18,
      "outputs": []
    },
    {
      "cell_type": "code",
      "source": [
        "import optuna\n",
        "import catboost as cb\n",
        "import numpy as np\n",
        "import pandas as pd\n",
        "from sklearn.metrics import mean_squared_error\n",
        "\n",
        "# 예시: target_cols와 해당 구별로 train/val 데이터, cat_features는 미리 준비\n",
        "# target_cols = ['Gwangjin', 'Dongdaemun', 'Seongdong', 'Jungnang']\n",
        "\n",
        "# ‘최종 best params’ 사전\n",
        "best_params_dict = {\n",
        "'Gwangjin': {'learning_rate': 0.07463933708677424, 'depth': 5, 'l2_leaf_reg': 1.074777222256696,\n",
        "'subsample': 0.805469615390896, 'colsample_bylevel': 0.7879853811582616},\n",
        "'Dongdaemun': {'learning_rate': 0.05090532965560029, 'depth': 4, 'l2_leaf_reg': 2.4336961951246585,\n",
        "'subsample': 0.9860732586553317, 'colsample_bylevel': 0.8329465092538842},\n",
        "'Seongdong': {'learning_rate': 0.06865667868137201, 'depth': 5, 'l2_leaf_reg': 3.548575891319757,\n",
        "'subsample': 0.7118705479838677, 'colsample_bylevel': 0.7334892361378472},\n",
        "'Jungnang': {'learning_rate': 0.05691151851732044, 'depth': 4, 'l2_leaf_reg': 2.5595777632181074,\n",
        "'subsample': 0.9751001756331396, 'colsample_bylevel': 0.5490555159536538}\n",
        "}\n",
        "\n",
        "results_summary = []\n",
        "all_valid_preds = {}\n",
        "\n",
        "for target in target_cols:\n",
        "    params = {\n",
        "        \"iterations\": 1000,\n",
        "        \"learning_rate\": best_params_dict[target][\"learning_rate\"],\n",
        "        \"depth\": best_params_dict[target][\"depth\"],\n",
        "        \"l2_leaf_reg\": best_params_dict[target][\"l2_leaf_reg\"],\n",
        "        \"subsample\": best_params_dict[target][\"subsample\"],\n",
        "        \"colsample_bylevel\": best_params_dict[target][\"colsample_bylevel\"],\n",
        "        \"random_seed\": 42,\n",
        "        \"cat_features\": cat_features,\n",
        "        \"loss_function\": \"RMSE\",\n",
        "        \"verbose\": 0\n",
        "    }\n",
        "    y_train = train_df.loc[train_idx, target]\n",
        "    y_val = train_df.loc[val_idx, target]\n",
        "    model = cb.CatBoostRegressor(**params)\n",
        "    model.fit(X_train, y_train, eval_set=(X_val, y_val), early_stopping_rounds=50)\n",
        "    preds = model.predict(X_val)\n",
        "\n",
        "    rmse = np.sqrt(mean_squared_error(y_val, preds))\n",
        "    results_summary.append({\n",
        "        '구': target,\n",
        "        'Best RMSE': round(rmse, 4),\n",
        "        'Best Params': best_params_dict[target]\n",
        "    })\n",
        "\n",
        "    all_valid_preds[target] = preds\n",
        "\n",
        "# 7. 구별 성능 요약\n",
        "summary_df = pd.DataFrame(results_summary)\n",
        "print(\"\\n=== 모든 구별 CatBoost Best RMSE & Params 요약 ===\")\n",
        "print(summary_df.to_markdown(index=False))\n",
        "\n"
      ],
      "metadata": {
        "colab": {
          "base_uri": "https://localhost:8080/"
        },
        "id": "kBWVMW5FmK6S",
        "outputId": "c3e0a357-1f45-4dfa-8449-20feafcbe583"
      },
      "execution_count": 19,
      "outputs": [
        {
          "output_type": "stream",
          "name": "stdout",
          "text": [
            "\n",
            "=== 모든 구별 CatBoost Best RMSE & Params 요약 ===\n",
            "| 구         |   Best RMSE | Best Params                                                                                                                                                     |\n",
            "|:-----------|------------:|:----------------------------------------------------------------------------------------------------------------------------------------------------------------|\n",
            "| Gwangjin   |      2.9355 | {'learning_rate': 0.07463933708677424, 'depth': 5, 'l2_leaf_reg': 1.074777222256696, 'subsample': 0.805469615390896, 'colsample_bylevel': 0.7879853811582616}   |\n",
            "| Dongdaemun |      2.7365 | {'learning_rate': 0.05090532965560029, 'depth': 4, 'l2_leaf_reg': 2.4336961951246585, 'subsample': 0.9860732586553317, 'colsample_bylevel': 0.8329465092538842} |\n",
            "| Seongdong  |      2.5493 | {'learning_rate': 0.06865667868137201, 'depth': 5, 'l2_leaf_reg': 3.548575891319757, 'subsample': 0.7118705479838677, 'colsample_bylevel': 0.7334892361378472}  |\n",
            "| Jungnang   |      1.7139 | {'learning_rate': 0.05691151851732044, 'depth': 4, 'l2_leaf_reg': 2.5595777632181074, 'subsample': 0.9751001756331396, 'colsample_bylevel': 0.5490555159536538} |\n"
          ]
        }
      ]
    },
    {
      "cell_type": "code",
      "source": [
        "valid_preds_df = pd.DataFrame(all_valid_preds, index=X_val.index)  # index는 날짜 등일 가능성 있음\n",
        "\n",
        "\n",
        "valid_preds_df = valid_preds_df.reset_index()\n",
        "valid_preds_df = valid_preds_df.rename(columns={'index': '일시'})\n",
        "\n",
        "valid_preds_df.to_csv('catboost_valid_preds_2021.csv', index=False)\n",
        "print(\"\\ncatboost_valid_preds_2021.csv 파일로 저장 완료!\")\n"
      ],
      "metadata": {
        "id": "sFihBM0_muIO",
        "colab": {
          "base_uri": "https://localhost:8080/"
        },
        "outputId": "e14e7858-bb85-4313-d933-1e1b0aa2abf1"
      },
      "execution_count": 20,
      "outputs": [
        {
          "output_type": "stream",
          "name": "stdout",
          "text": [
            "\n",
            "catboost_valid_preds_2021.csv 파일로 저장 완료!\n"
          ]
        }
      ]
    },
    {
      "cell_type": "code",
      "source": [],
      "metadata": {
        "id": "5qfDSPWxaCeP"
      },
      "execution_count": null,
      "outputs": []
    }
  ]
}