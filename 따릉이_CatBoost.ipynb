{
  "nbformat": 4,
  "nbformat_minor": 0,
  "metadata": {
    "colab": {
      "provenance": []
    },
    "kernelspec": {
      "name": "python3",
      "display_name": "Python 3"
    },
    "language_info": {
      "name": "python"
    }
  },
  "cells": [
    {
      "cell_type": "code",
      "execution_count": null,
      "metadata": {
        "colab": {
          "base_uri": "https://localhost:8080/",
          "height": 78
        },
        "id": "30ZjiHHqs61j",
        "outputId": "673e51ef-8070-4920-8796-6c55f7116598"
      },
      "outputs": [
        {
          "output_type": "display_data",
          "data": {
            "text/plain": [
              "<IPython.core.display.HTML object>"
            ],
            "text/html": [
              "\n",
              "     <input type=\"file\" id=\"files-2e8bc539-b081-4b4d-95ae-cde2ca6f878a\" name=\"files[]\" multiple disabled\n",
              "        style=\"border:none\" />\n",
              "     <output id=\"result-2e8bc539-b081-4b4d-95ae-cde2ca6f878a\">\n",
              "      Upload widget is only available when the cell has been executed in the\n",
              "      current browser session. Please rerun this cell to enable.\n",
              "      </output>\n",
              "      <script>// Copyright 2017 Google LLC\n",
              "//\n",
              "// Licensed under the Apache License, Version 2.0 (the \"License\");\n",
              "// you may not use this file except in compliance with the License.\n",
              "// You may obtain a copy of the License at\n",
              "//\n",
              "//      http://www.apache.org/licenses/LICENSE-2.0\n",
              "//\n",
              "// Unless required by applicable law or agreed to in writing, software\n",
              "// distributed under the License is distributed on an \"AS IS\" BASIS,\n",
              "// WITHOUT WARRANTIES OR CONDITIONS OF ANY KIND, either express or implied.\n",
              "// See the License for the specific language governing permissions and\n",
              "// limitations under the License.\n",
              "\n",
              "/**\n",
              " * @fileoverview Helpers for google.colab Python module.\n",
              " */\n",
              "(function(scope) {\n",
              "function span(text, styleAttributes = {}) {\n",
              "  const element = document.createElement('span');\n",
              "  element.textContent = text;\n",
              "  for (const key of Object.keys(styleAttributes)) {\n",
              "    element.style[key] = styleAttributes[key];\n",
              "  }\n",
              "  return element;\n",
              "}\n",
              "\n",
              "// Max number of bytes which will be uploaded at a time.\n",
              "const MAX_PAYLOAD_SIZE = 100 * 1024;\n",
              "\n",
              "function _uploadFiles(inputId, outputId) {\n",
              "  const steps = uploadFilesStep(inputId, outputId);\n",
              "  const outputElement = document.getElementById(outputId);\n",
              "  // Cache steps on the outputElement to make it available for the next call\n",
              "  // to uploadFilesContinue from Python.\n",
              "  outputElement.steps = steps;\n",
              "\n",
              "  return _uploadFilesContinue(outputId);\n",
              "}\n",
              "\n",
              "// This is roughly an async generator (not supported in the browser yet),\n",
              "// where there are multiple asynchronous steps and the Python side is going\n",
              "// to poll for completion of each step.\n",
              "// This uses a Promise to block the python side on completion of each step,\n",
              "// then passes the result of the previous step as the input to the next step.\n",
              "function _uploadFilesContinue(outputId) {\n",
              "  const outputElement = document.getElementById(outputId);\n",
              "  const steps = outputElement.steps;\n",
              "\n",
              "  const next = steps.next(outputElement.lastPromiseValue);\n",
              "  return Promise.resolve(next.value.promise).then((value) => {\n",
              "    // Cache the last promise value to make it available to the next\n",
              "    // step of the generator.\n",
              "    outputElement.lastPromiseValue = value;\n",
              "    return next.value.response;\n",
              "  });\n",
              "}\n",
              "\n",
              "/**\n",
              " * Generator function which is called between each async step of the upload\n",
              " * process.\n",
              " * @param {string} inputId Element ID of the input file picker element.\n",
              " * @param {string} outputId Element ID of the output display.\n",
              " * @return {!Iterable<!Object>} Iterable of next steps.\n",
              " */\n",
              "function* uploadFilesStep(inputId, outputId) {\n",
              "  const inputElement = document.getElementById(inputId);\n",
              "  inputElement.disabled = false;\n",
              "\n",
              "  const outputElement = document.getElementById(outputId);\n",
              "  outputElement.innerHTML = '';\n",
              "\n",
              "  const pickedPromise = new Promise((resolve) => {\n",
              "    inputElement.addEventListener('change', (e) => {\n",
              "      resolve(e.target.files);\n",
              "    });\n",
              "  });\n",
              "\n",
              "  const cancel = document.createElement('button');\n",
              "  inputElement.parentElement.appendChild(cancel);\n",
              "  cancel.textContent = 'Cancel upload';\n",
              "  const cancelPromise = new Promise((resolve) => {\n",
              "    cancel.onclick = () => {\n",
              "      resolve(null);\n",
              "    };\n",
              "  });\n",
              "\n",
              "  // Wait for the user to pick the files.\n",
              "  const files = yield {\n",
              "    promise: Promise.race([pickedPromise, cancelPromise]),\n",
              "    response: {\n",
              "      action: 'starting',\n",
              "    }\n",
              "  };\n",
              "\n",
              "  cancel.remove();\n",
              "\n",
              "  // Disable the input element since further picks are not allowed.\n",
              "  inputElement.disabled = true;\n",
              "\n",
              "  if (!files) {\n",
              "    return {\n",
              "      response: {\n",
              "        action: 'complete',\n",
              "      }\n",
              "    };\n",
              "  }\n",
              "\n",
              "  for (const file of files) {\n",
              "    const li = document.createElement('li');\n",
              "    li.append(span(file.name, {fontWeight: 'bold'}));\n",
              "    li.append(span(\n",
              "        `(${file.type || 'n/a'}) - ${file.size} bytes, ` +\n",
              "        `last modified: ${\n",
              "            file.lastModifiedDate ? file.lastModifiedDate.toLocaleDateString() :\n",
              "                                    'n/a'} - `));\n",
              "    const percent = span('0% done');\n",
              "    li.appendChild(percent);\n",
              "\n",
              "    outputElement.appendChild(li);\n",
              "\n",
              "    const fileDataPromise = new Promise((resolve) => {\n",
              "      const reader = new FileReader();\n",
              "      reader.onload = (e) => {\n",
              "        resolve(e.target.result);\n",
              "      };\n",
              "      reader.readAsArrayBuffer(file);\n",
              "    });\n",
              "    // Wait for the data to be ready.\n",
              "    let fileData = yield {\n",
              "      promise: fileDataPromise,\n",
              "      response: {\n",
              "        action: 'continue',\n",
              "      }\n",
              "    };\n",
              "\n",
              "    // Use a chunked sending to avoid message size limits. See b/62115660.\n",
              "    let position = 0;\n",
              "    do {\n",
              "      const length = Math.min(fileData.byteLength - position, MAX_PAYLOAD_SIZE);\n",
              "      const chunk = new Uint8Array(fileData, position, length);\n",
              "      position += length;\n",
              "\n",
              "      const base64 = btoa(String.fromCharCode.apply(null, chunk));\n",
              "      yield {\n",
              "        response: {\n",
              "          action: 'append',\n",
              "          file: file.name,\n",
              "          data: base64,\n",
              "        },\n",
              "      };\n",
              "\n",
              "      let percentDone = fileData.byteLength === 0 ?\n",
              "          100 :\n",
              "          Math.round((position / fileData.byteLength) * 100);\n",
              "      percent.textContent = `${percentDone}% done`;\n",
              "\n",
              "    } while (position < fileData.byteLength);\n",
              "  }\n",
              "\n",
              "  // All done.\n",
              "  yield {\n",
              "    response: {\n",
              "      action: 'complete',\n",
              "    }\n",
              "  };\n",
              "}\n",
              "\n",
              "scope.google = scope.google || {};\n",
              "scope.google.colab = scope.google.colab || {};\n",
              "scope.google.colab._files = {\n",
              "  _uploadFiles,\n",
              "  _uploadFilesContinue,\n",
              "};\n",
              "})(self);\n",
              "</script> "
            ]
          },
          "metadata": {}
        },
        {
          "output_type": "stream",
          "name": "stdout",
          "text": [
            "Saving train.csv to train (1).csv\n"
          ]
        }
      ],
      "source": [
        "from google.colab import files\n",
        "uploaded = files.upload()"
      ]
    },
    {
      "cell_type": "code",
      "source": [
        "!pip install catboost holidays scikit-learn matplotlib"
      ],
      "metadata": {
        "colab": {
          "base_uri": "https://localhost:8080/"
        },
        "collapsed": true,
        "id": "RF41XhwKtYi5",
        "outputId": "bfc54866-3154-4889-be99-14d83f8d1a0d"
      },
      "execution_count": null,
      "outputs": [
        {
          "output_type": "stream",
          "name": "stdout",
          "text": [
            "Requirement already satisfied: catboost in /usr/local/lib/python3.11/dist-packages (1.2.8)\n",
            "Requirement already satisfied: holidays in /usr/local/lib/python3.11/dist-packages (0.76)\n",
            "Requirement already satisfied: scikit-learn in /usr/local/lib/python3.11/dist-packages (1.7.0)\n",
            "Requirement already satisfied: matplotlib in /usr/local/lib/python3.11/dist-packages (3.10.0)\n",
            "Requirement already satisfied: graphviz in /usr/local/lib/python3.11/dist-packages (from catboost) (0.21)\n",
            "Requirement already satisfied: numpy<3.0,>=1.16.0 in /usr/local/lib/python3.11/dist-packages (from catboost) (2.0.2)\n",
            "Requirement already satisfied: pandas>=0.24 in /usr/local/lib/python3.11/dist-packages (from catboost) (2.2.2)\n",
            "Requirement already satisfied: scipy in /usr/local/lib/python3.11/dist-packages (from catboost) (1.15.3)\n",
            "Requirement already satisfied: plotly in /usr/local/lib/python3.11/dist-packages (from catboost) (5.24.1)\n",
            "Requirement already satisfied: six in /usr/local/lib/python3.11/dist-packages (from catboost) (1.17.0)\n",
            "Requirement already satisfied: python-dateutil in /usr/local/lib/python3.11/dist-packages (from holidays) (2.9.0.post0)\n",
            "Requirement already satisfied: joblib>=1.2.0 in /usr/local/lib/python3.11/dist-packages (from scikit-learn) (1.5.1)\n",
            "Requirement already satisfied: threadpoolctl>=3.1.0 in /usr/local/lib/python3.11/dist-packages (from scikit-learn) (3.6.0)\n",
            "Requirement already satisfied: contourpy>=1.0.1 in /usr/local/lib/python3.11/dist-packages (from matplotlib) (1.3.2)\n",
            "Requirement already satisfied: cycler>=0.10 in /usr/local/lib/python3.11/dist-packages (from matplotlib) (0.12.1)\n",
            "Requirement already satisfied: fonttools>=4.22.0 in /usr/local/lib/python3.11/dist-packages (from matplotlib) (4.58.5)\n",
            "Requirement already satisfied: kiwisolver>=1.3.1 in /usr/local/lib/python3.11/dist-packages (from matplotlib) (1.4.8)\n",
            "Requirement already satisfied: packaging>=20.0 in /usr/local/lib/python3.11/dist-packages (from matplotlib) (24.2)\n",
            "Requirement already satisfied: pillow>=8 in /usr/local/lib/python3.11/dist-packages (from matplotlib) (11.2.1)\n",
            "Requirement already satisfied: pyparsing>=2.3.1 in /usr/local/lib/python3.11/dist-packages (from matplotlib) (3.2.3)\n",
            "Requirement already satisfied: pytz>=2020.1 in /usr/local/lib/python3.11/dist-packages (from pandas>=0.24->catboost) (2025.2)\n",
            "Requirement already satisfied: tzdata>=2022.7 in /usr/local/lib/python3.11/dist-packages (from pandas>=0.24->catboost) (2025.2)\n",
            "Requirement already satisfied: tenacity>=6.2.0 in /usr/local/lib/python3.11/dist-packages (from plotly->catboost) (8.5.0)\n"
          ]
        }
      ]
    },
    {
      "cell_type": "code",
      "source": [
        "# 라이브러리 임포트\n",
        "import pandas as pd\n",
        "import numpy as np\n",
        "from catboost import CatBoostRegressor\n",
        "from sklearn.metrics import mean_squared_error\n",
        "import matplotlib.pyplot as plt\n",
        "\n",
        "# 데이터 불러오기\n",
        "train_df = pd.read_csv(\"train.csv\")\n",
        "\n",
        "# 날짜 컬럼 처리 및 파생 변수 생성\n",
        "train_df['일시'] = pd.to_datetime(train_df['일시'].astype(str), format=\"%Y%m%d\")\n",
        "train_df['year'] = train_df['일시'].dt.year\n",
        "train_df['month'] = train_df['일시'].dt.month\n",
        "train_df['day'] = train_df['일시'].dt.day\n",
        "train_df['weekday'] = train_df['일시'].dt.weekday  # 0: 월요일, 6: 일요일\n",
        "train_df['is_weekend'] = (train_df['weekday'] >= 5).astype(int)\n",
        "\n",
        "# 컬럼명 영문화\n",
        "train_df = train_df.rename(columns={\n",
        "    '광진구': 'Gwangjin',\n",
        "    '동대문구': 'Dongdaemun',\n",
        "    '성동구': 'Seongdong',\n",
        "    '중랑구': 'Jungnang'\n",
        "})"
      ],
      "metadata": {
        "id": "xEmqwNQPtRND"
      },
      "execution_count": null,
      "outputs": []
    },
    {
      "cell_type": "code",
      "source": [
        "# 공휴일 정보 파생 변수\n",
        "import holidays\n",
        "kr_holidays = holidays.KR(years=[2018, 2019, 2020, 2021, 2022])\n",
        "\n",
        "# 임시공휴일 및 선거일 직접 추가\n",
        "extra_holidays = {\n",
        "    '2018-06-13': '제7회 전국동시지방선거',\n",
        "    '2020-04-15': '제21대 국회의원선거',\n",
        "    '2020-08-17': '임시공휴일',\n",
        "    '2022-03-09': '제20대 대통령선거',\n",
        "    '2022-06-01': '제8회 전국동시지방선거'\n",
        "}\n",
        "for date, name in extra_holidays.items():\n",
        "    kr_holidays[date] = name\n",
        "\n",
        "\n",
        "train_df['holiday_name'] = train_df['일시'].dt.date.map(kr_holidays)\n",
        "train_df['holiday_name'] = train_df['holiday_name'].fillna('None')\n",
        "train_df['is_holiday'] = (train_df['holiday_name'] != 'None').astype(int)\n",
        "\n",
        "# 활동형/휴식형 공휴일 구분\n",
        "activity_holidays = ['어린이날']\n",
        "rest_holidays = ['설날', '추석', '크리스마스']\n",
        "train_df['is_activity_holiday'] = train_df['holiday_name'].isin(activity_holidays).astype(int)\n",
        "train_df['is_rest_holiday'] = train_df['holiday_name'].isin(rest_holidays).astype(int)"
      ],
      "metadata": {
        "id": "AiZH-_zhtW2N"
      },
      "execution_count": null,
      "outputs": []
    },
    {
      "cell_type": "code",
      "source": [
        "# 급증일/급감일 변수 생성\n",
        "\n",
        "for gu in ['Gwangjin', 'Dongdaemun', 'Seongdong', 'Jungnang']:\n",
        "    ma = train_df[gu].rolling(window=3, center=True).mean()\n",
        "    residual = train_df[gu] - ma\n",
        "    spike_days = train_df.loc[residual.nlargest(10).index, '일시']\n",
        "    drop_days = train_df.loc[residual.nsmallest(10).index, '일시']\n",
        "    train_df[f'{gu}_is_spike_day'] = train_df['일시'].isin(spike_days).astype(int)\n",
        "    train_df[f'{gu}_is_drop_day'] = train_df['일시'].isin(drop_days).astype(int)\n",
        "\n",
        "\n",
        "# 급증/급감일 날짜순 확인\n",
        "for gu in ['Gwangjin', 'Dongdaemun', 'Seongdong', 'Jungnang']:\n",
        "    ma = train_df[gu].rolling(window=3, center=True).mean()\n",
        "    residual = train_df[gu] - ma\n",
        "\n",
        "    # 급증일\n",
        "    spike_idx = residual.nlargest(10).index\n",
        "    spike_days = train_df.loc[spike_idx, ['일시', gu]].copy()\n",
        "    spike_days['residual'] = residual.loc[spike_idx]\n",
        "    print(f\"\\n=== {gu} 급증일(날짜순) ===\")\n",
        "    print(spike_days.sort_values(by='일시'))\n",
        "\n",
        "    # 급감일\n",
        "    drop_idx = residual.nsmallest(10).index\n",
        "    drop_days = train_df.loc[drop_idx, ['일시', gu]].copy()\n",
        "    drop_days['residual'] = residual.loc[drop_idx]\n",
        "    print(f\"\\n=== {gu} 급감일(날짜순) ===\")\n",
        "    print(drop_days.sort_values(by='일시'))"
      ],
      "metadata": {
        "colab": {
          "base_uri": "https://localhost:8080/"
        },
        "collapsed": true,
        "id": "v9qCAdJOiY2W",
        "outputId": "2346dd18-419e-4c27-c42e-82b7b3f23346"
      },
      "execution_count": null,
      "outputs": [
        {
          "output_type": "stream",
          "name": "stdout",
          "text": [
            "\n",
            "=== Gwangjin 급증일(날짜순) ===\n",
            "             일시  Gwangjin  residual\n",
            "618  2019-09-11     9.790  4.068000\n",
            "838  2020-04-18    11.258  5.116000\n",
            "867  2020-05-17    10.754  3.494000\n",
            "981  2020-09-08     9.450  3.950667\n",
            "986  2020-09-13    11.150  3.198000\n",
            "1220 2021-05-05    12.446  3.618000\n",
            "1248 2021-06-02    11.884  3.274000\n",
            "1329 2021-08-22    11.918  5.234000\n",
            "1337 2021-08-30    13.242  3.863333\n",
            "1377 2021-10-09    11.336  4.372667\n",
            "\n",
            "=== Gwangjin 급감일(날짜순) ===\n",
            "             일시  Gwangjin  residual\n",
            "503  2019-05-19     1.724 -5.288000\n",
            "639  2019-10-02     3.418 -4.632000\n",
            "644  2019-10-07     2.700 -4.910667\n",
            "1188 2021-04-03     1.636 -5.700667\n",
            "1219 2021-05-04     2.734 -6.044667\n",
            "1249 2021-06-03     3.776 -5.024000\n",
            "1328 2021-08-21     3.664 -5.677333\n",
            "1338 2021-08-31     2.690 -6.109333\n",
            "1345 2021-09-07     1.178 -5.558667\n",
            "1378 2021-10-10     3.480 -5.189333\n",
            "\n",
            "=== Dongdaemun 급증일(날짜순) ===\n",
            "             일시  Dongdaemun  residual\n",
            "838  2020-04-18       6.128  2.544000\n",
            "981  2020-09-08       7.024  2.821333\n",
            "1218 2021-05-03       9.370  2.906667\n",
            "1248 2021-06-02      10.086  2.812667\n",
            "1250 2021-06-04       9.880  2.531333\n",
            "1329 2021-08-22       7.818  2.942000\n",
            "1337 2021-08-30      11.016  3.727333\n",
            "1346 2021-09-08      10.618  2.776000\n",
            "1368 2021-09-30      11.298  2.514667\n",
            "1377 2021-10-09       7.942  2.540667\n",
            "\n",
            "=== Dongdaemun 급감일(날짜순) ===\n",
            "             일시  Dongdaemun  residual\n",
            "924  2020-07-13       0.390 -3.199333\n",
            "975  2020-09-02       1.070 -3.250000\n",
            "980  2020-09-07       0.268 -3.378000\n",
            "1188 2021-04-03       1.236 -4.117333\n",
            "1219 2021-05-04       2.172 -4.448667\n",
            "1249 2021-06-03       3.542 -4.294000\n",
            "1328 2021-08-21       2.778 -4.240000\n",
            "1338 2021-08-31       2.262 -5.096000\n",
            "1345 2021-09-07       1.200 -4.809333\n",
            "1378 2021-10-10       2.682 -3.598667\n",
            "\n",
            "=== Seongdong 급증일(날짜순) ===\n",
            "             일시  Seongdong  residual\n",
            "618  2019-09-11      7.222  3.158667\n",
            "838  2020-04-18      9.296  4.246000\n",
            "867  2020-05-17      9.568  3.156667\n",
            "981  2020-09-08      9.858  4.246667\n",
            "986  2020-09-13     12.500  3.978000\n",
            "1196 2021-04-11     11.572  3.548000\n",
            "1220 2021-05-05     12.348  4.112000\n",
            "1329 2021-08-22     10.098  4.598000\n",
            "1337 2021-08-30     10.778  3.094000\n",
            "1377 2021-10-09     10.142  4.098000\n",
            "\n",
            "=== Seongdong 급감일(날짜순) ===\n",
            "             일시  Seongdong  residual\n",
            "503  2019-05-19      0.976 -4.302667\n",
            "980  2020-09-07      0.306 -4.822000\n",
            "1188 2021-04-03      1.028 -5.550000\n",
            "1197 2021-04-12      1.994 -4.870667\n",
            "1219 2021-05-04      1.894 -6.243333\n",
            "1249 2021-06-03      2.842 -4.926000\n",
            "1328 2021-08-21      3.032 -4.867333\n",
            "1338 2021-08-31      1.930 -5.225333\n",
            "1345 2021-09-07      1.168 -4.676667\n",
            "1378 2021-10-10      2.844 -4.837333\n",
            "\n",
            "=== Jungnang 급증일(날짜순) ===\n",
            "             일시  Jungnang  residual\n",
            "838  2020-04-18     5.750  2.537333\n",
            "864  2020-05-14     5.752  1.735333\n",
            "904  2020-06-23     5.958  1.816667\n",
            "981  2020-09-08     5.642  2.382000\n",
            "1187 2021-04-02     6.408  1.790667\n",
            "1218 2021-05-03     6.692  1.841333\n",
            "1248 2021-06-02     7.174  2.056000\n",
            "1329 2021-08-22     6.444  2.750000\n",
            "1337 2021-08-30     7.402  2.162000\n",
            "1377 2021-10-09     6.788  2.603333\n",
            "\n",
            "=== Jungnang 급감일(날짜순) ===\n",
            "             일시  Jungnang  residual\n",
            "865  2020-05-15     0.846 -2.770000\n",
            "924  2020-07-13     0.276 -2.660667\n",
            "980  2020-09-07     0.162 -2.710000\n",
            "1188 2021-04-03     1.070 -3.075333\n",
            "1219 2021-05-04     1.484 -3.328667\n",
            "1249 2021-06-03     2.174 -3.201333\n",
            "1328 2021-08-21     2.068 -3.204000\n",
            "1338 2021-08-31     1.490 -3.605333\n",
            "1345 2021-09-07     0.720 -3.212000\n",
            "1378 2021-10-10     2.090 -2.996000\n"
          ]
        }
      ]
    },
    {
      "cell_type": "code",
      "source": [
        "# 공휴일 제외 급증/급감일\n",
        "for gu in ['Gwangjin', 'Dongdaemun', 'Seongdong', 'Jungnang']:\n",
        "    non_holiday_df = train_df[train_df['is_holiday'] == 0].copy()\n",
        "    ma = non_holiday_df[gu].rolling(window=3, center=True).mean()\n",
        "    residual = non_holiday_df[gu] - ma\n",
        "\n",
        "    spike_idx = residual.nlargest(10).index\n",
        "    spike_days = non_holiday_df.loc[spike_idx, ['일시', gu]].copy()\n",
        "    spike_days['residual'] = residual.loc[spike_idx]\n",
        "    print(f\"\\n=== {gu} 급증일(공휴일 제외, 날짜순) ===\")\n",
        "    print(spike_days.sort_values(by='일시'))\n",
        "\n",
        "    drop_idx = residual.nsmallest(10).index\n",
        "    drop_days = non_holiday_df.loc[drop_idx, ['일시', gu]].copy()\n",
        "    drop_days['residual'] = residual.loc[drop_idx]\n",
        "    print(f\"\\n=== {gu} 급감일(공휴일 제외, 날짜순) ===\")\n",
        "    print(drop_days.sort_values(by='일시'))"
      ],
      "metadata": {
        "colab": {
          "base_uri": "https://localhost:8080/"
        },
        "collapsed": true,
        "id": "-aO3pcc5ilFD",
        "outputId": "b52a496b-34b6-4a20-a5ce-b808faf0a086"
      },
      "execution_count": null,
      "outputs": [
        {
          "output_type": "stream",
          "name": "stdout",
          "text": [
            "\n",
            "=== Gwangjin 급증일(공휴일 제외, 날짜순) ===\n",
            "             일시  Gwangjin  residual\n",
            "838  2020-04-18    11.258  5.116000\n",
            "867  2020-05-17    10.754  3.494000\n",
            "981  2020-09-08     9.450  3.950667\n",
            "986  2020-09-13    11.150  3.198000\n",
            "1221 2021-05-06    11.304  3.757333\n",
            "1233 2021-05-18    11.084  3.381333\n",
            "1248 2021-06-02    11.884  3.274000\n",
            "1329 2021-08-22    11.918  5.234000\n",
            "1337 2021-08-30    13.242  3.863333\n",
            "1346 2021-09-08    11.990  3.193333\n",
            "\n",
            "=== Gwangjin 급감일(공휴일 제외, 날짜순) ===\n",
            "             일시  Gwangjin  residual\n",
            "503  2019-05-19     1.724 -5.288000\n",
            "639  2019-10-02     3.418 -5.354000\n",
            "644  2019-10-07     2.700 -4.910667\n",
            "837  2020-04-17     3.798 -4.608000\n",
            "1188 2021-04-03     1.636 -5.700667\n",
            "1219 2021-05-04     2.734 -5.664000\n",
            "1249 2021-06-03     3.776 -5.024000\n",
            "1328 2021-08-21     3.664 -5.677333\n",
            "1338 2021-08-31     2.690 -6.109333\n",
            "1345 2021-09-07     1.178 -5.558667\n",
            "\n",
            "=== Dongdaemun 급증일(공휴일 제외, 날짜순) ===\n",
            "             일시  Dongdaemun  residual\n",
            "838  2020-04-18       6.128  2.544000\n",
            "981  2020-09-08       7.024  2.821333\n",
            "1218 2021-05-03       9.370  2.906667\n",
            "1221 2021-05-06       8.946  2.980000\n",
            "1233 2021-05-18       9.858  3.084667\n",
            "1248 2021-06-02      10.086  2.812667\n",
            "1250 2021-06-04       9.880  2.531333\n",
            "1329 2021-08-22       7.818  2.942000\n",
            "1337 2021-08-30      11.016  3.727333\n",
            "1346 2021-09-08      10.618  2.776000\n",
            "\n",
            "=== Dongdaemun 급감일(공휴일 제외, 날짜순) ===\n",
            "             일시  Dongdaemun  residual\n",
            "924  2020-07-13       0.390 -3.199333\n",
            "975  2020-09-02       1.070 -3.250000\n",
            "980  2020-09-07       0.268 -3.378000\n",
            "1188 2021-04-03       1.236 -4.117333\n",
            "1219 2021-05-04       2.172 -4.657333\n",
            "1249 2021-06-03       3.542 -4.294000\n",
            "1328 2021-08-21       2.778 -4.240000\n",
            "1338 2021-08-31       2.262 -5.096000\n",
            "1345 2021-09-07       1.200 -4.809333\n",
            "1378 2021-10-10       2.682 -3.294000\n",
            "\n",
            "=== Seongdong 급증일(공휴일 제외, 날짜순) ===\n",
            "             일시  Seongdong  residual\n",
            "838  2020-04-18      9.296  4.246000\n",
            "867  2020-05-17      9.568  3.156667\n",
            "981  2020-09-08      9.858  4.246667\n",
            "986  2020-09-13     12.500  3.978000\n",
            "1196 2021-04-11     11.572  3.548000\n",
            "1221 2021-05-06     10.466  4.116000\n",
            "1233 2021-05-18      9.902  3.153333\n",
            "1329 2021-08-22     10.098  4.598000\n",
            "1337 2021-08-30     10.778  3.094000\n",
            "1346 2021-09-08     10.842  3.040667\n",
            "\n",
            "=== Seongdong 급감일(공휴일 제외, 날짜순) ===\n",
            "             일시  Seongdong  residual\n",
            "503  2019-05-19      0.976 -4.302667\n",
            "639  2019-10-02      2.452 -4.035333\n",
            "980  2020-09-07      0.306 -4.822000\n",
            "1188 2021-04-03      1.028 -5.550000\n",
            "1197 2021-04-12      1.994 -4.870667\n",
            "1219 2021-05-04      1.894 -5.616000\n",
            "1249 2021-06-03      2.842 -4.926000\n",
            "1328 2021-08-21      3.032 -4.867333\n",
            "1338 2021-08-31      1.930 -5.225333\n",
            "1345 2021-09-07      1.168 -4.676667\n",
            "\n",
            "=== Jungnang 급증일(공휴일 제외, 날짜순) ===\n",
            "             일시  Jungnang  residual\n",
            "838  2020-04-18     5.750  2.537333\n",
            "904  2020-06-23     5.958  1.816667\n",
            "981  2020-09-08     5.642  2.382000\n",
            "1187 2021-04-02     6.408  1.790667\n",
            "1218 2021-05-03     6.692  1.841333\n",
            "1221 2021-05-06     6.420  2.201333\n",
            "1233 2021-05-18     7.142  2.336667\n",
            "1248 2021-06-02     7.174  2.056000\n",
            "1329 2021-08-22     6.444  2.750000\n",
            "1337 2021-08-30     7.402  2.162000\n",
            "\n",
            "=== Jungnang 급감일(공휴일 제외, 날짜순) ===\n",
            "             일시  Jungnang  residual\n",
            "865  2020-05-15     0.846 -2.770000\n",
            "924  2020-07-13     0.276 -2.660667\n",
            "975  2020-09-02     0.684 -2.584667\n",
            "980  2020-09-07     0.162 -2.710000\n",
            "1188 2021-04-03     1.070 -3.075333\n",
            "1219 2021-05-04     1.484 -3.381333\n",
            "1249 2021-06-03     2.174 -3.201333\n",
            "1328 2021-08-21     2.068 -3.204000\n",
            "1338 2021-08-31     1.490 -3.605333\n",
            "1345 2021-09-07     0.720 -3.212000\n"
          ]
        }
      ]
    },
    {
      "cell_type": "code",
      "source": [
        "# Feature/Target/범주형 변수 정의\n",
        "feature_cols = [\n",
        "    'year', 'month', 'day', 'weekday', 'is_weekend',\n",
        "    'is_holiday', 'holiday_name', 'is_activity_holiday', 'is_rest_holiday',\n",
        "    'Gwangjin_is_spike_day', 'Dongdaemun_is_spike_day', 'Seongdong_is_spike_day', 'Jungnang_is_spike_day',\n",
        "    'Gwangjin_prev_year_same_month', 'Gwangjin_prev_year_same_weekday',\n",
        "    'Dongdaemun_prev_year_same_month', 'Dongdaemun_prev_year_same_weekday',\n",
        "    'Seongdong_prev_year_same_month', 'Seongdong_prev_year_same_weekday',\n",
        "    'Jungnang_prev_year_same_month', 'Jungnang_prev_year_same_weekday'\n",
        "    # 외부 변수, 급감일 등 필요시 추가\n",
        "]\n",
        "cat_features = [\n",
        "    'month', 'weekday', 'is_weekend', 'is_holiday', 'holiday_name',\n",
        "    'is_activity_holiday', 'is_rest_holiday',\n",
        "    'Gwangjin_is_spike_day', 'Dongdaemun_is_spike_day', 'Seongdong_is_spike_day', 'Jungnang_is_spike_day',\n",
        "]\n",
        "target_cols = ['Gwangjin', 'Dongdaemun', 'Seongdong', 'Jungnang']\n"
      ],
      "metadata": {
        "id": "PegFFVSgtp2R"
      },
      "execution_count": null,
      "outputs": []
    },
    {
      "cell_type": "code",
      "source": [
        "!pip install --upgrade scikit-learn"
      ],
      "metadata": {
        "colab": {
          "base_uri": "https://localhost:8080/"
        },
        "collapsed": true,
        "id": "KK7W-r1Yn-Xz",
        "outputId": "252c5962-7bf0-4a9a-e8e9-cb436283e50b"
      },
      "execution_count": null,
      "outputs": [
        {
          "output_type": "stream",
          "name": "stdout",
          "text": [
            "Requirement already satisfied: scikit-learn in /usr/local/lib/python3.11/dist-packages (1.7.0)\n",
            "Requirement already satisfied: numpy>=1.22.0 in /usr/local/lib/python3.11/dist-packages (from scikit-learn) (2.0.2)\n",
            "Requirement already satisfied: scipy>=1.8.0 in /usr/local/lib/python3.11/dist-packages (from scikit-learn) (1.15.3)\n",
            "Requirement already satisfied: joblib>=1.2.0 in /usr/local/lib/python3.11/dist-packages (from scikit-learn) (1.5.1)\n",
            "Requirement already satisfied: threadpoolctl>=3.1.0 in /usr/local/lib/python3.11/dist-packages (from scikit-learn) (3.6.0)\n"
          ]
        }
      ]
    },
    {
      "cell_type": "code",
      "source": [
        "!pip install optuna"
      ],
      "metadata": {
        "collapsed": true,
        "colab": {
          "base_uri": "https://localhost:8080/"
        },
        "id": "3gts-WisHD_I",
        "outputId": "f0c3f92a-ff0c-4d12-ad95-4ddce2149f35"
      },
      "execution_count": null,
      "outputs": [
        {
          "output_type": "stream",
          "name": "stdout",
          "text": [
            "Collecting optuna\n",
            "  Downloading optuna-4.4.0-py3-none-any.whl.metadata (17 kB)\n",
            "Collecting alembic>=1.5.0 (from optuna)\n",
            "  Downloading alembic-1.16.4-py3-none-any.whl.metadata (7.3 kB)\n",
            "Collecting colorlog (from optuna)\n",
            "  Downloading colorlog-6.9.0-py3-none-any.whl.metadata (10 kB)\n",
            "Requirement already satisfied: numpy in /usr/local/lib/python3.11/dist-packages (from optuna) (2.0.2)\n",
            "Requirement already satisfied: packaging>=20.0 in /usr/local/lib/python3.11/dist-packages (from optuna) (24.2)\n",
            "Requirement already satisfied: sqlalchemy>=1.4.2 in /usr/local/lib/python3.11/dist-packages (from optuna) (2.0.41)\n",
            "Requirement already satisfied: tqdm in /usr/local/lib/python3.11/dist-packages (from optuna) (4.67.1)\n",
            "Requirement already satisfied: PyYAML in /usr/local/lib/python3.11/dist-packages (from optuna) (6.0.2)\n",
            "Requirement already satisfied: Mako in /usr/lib/python3/dist-packages (from alembic>=1.5.0->optuna) (1.1.3)\n",
            "Requirement already satisfied: typing-extensions>=4.12 in /usr/local/lib/python3.11/dist-packages (from alembic>=1.5.0->optuna) (4.14.1)\n",
            "Requirement already satisfied: greenlet>=1 in /usr/local/lib/python3.11/dist-packages (from sqlalchemy>=1.4.2->optuna) (3.2.3)\n",
            "Downloading optuna-4.4.0-py3-none-any.whl (395 kB)\n",
            "\u001b[2K   \u001b[90m━━━━━━━━━━━━━━━━━━━━━━━━━━━━━━━━━━━━━━━━\u001b[0m \u001b[32m395.9/395.9 kB\u001b[0m \u001b[31m9.9 MB/s\u001b[0m eta \u001b[36m0:00:00\u001b[0m\n",
            "\u001b[?25hDownloading alembic-1.16.4-py3-none-any.whl (247 kB)\n",
            "\u001b[2K   \u001b[90m━━━━━━━━━━━━━━━━━━━━━━━━━━━━━━━━━━━━━━━━\u001b[0m \u001b[32m247.0/247.0 kB\u001b[0m \u001b[31m19.1 MB/s\u001b[0m eta \u001b[36m0:00:00\u001b[0m\n",
            "\u001b[?25hDownloading colorlog-6.9.0-py3-none-any.whl (11 kB)\n",
            "Installing collected packages: colorlog, alembic, optuna\n",
            "Successfully installed alembic-1.16.4 colorlog-6.9.0 optuna-4.4.0\n"
          ]
        }
      ]
    },
    {
      "cell_type": "code",
      "source": [
        "from catboost import CatBoostRegressor\n",
        "from sklearn.metrics import mean_squared_error, mean_absolute_error\n",
        "import numpy as np\n",
        "import pandas as pd\n",
        "\n",
        "results = {}\n",
        "summary_data = []\n",
        "\n",
        "# 학습/검증 인덱스 정의\n",
        "train_idx = train_df['year'] < 2021    # 2018~2020년\n",
        "val_idx = train_df['year'] == 2021     # 2021년\n",
        "\n",
        "X_train = train_df.loc[train_idx, feature_cols]\n",
        "X_val = train_df.loc[val_idx, feature_cols]\n"
      ],
      "metadata": {
        "id": "LZyw8sDfI8jU"
      },
      "execution_count": null,
      "outputs": []
    },
    {
      "cell_type": "code",
      "source": [
        "best_params_dict = {\n",
        "    'Gwangjin':{'learning_rate': 0.07463933708677424, 'depth': 5, 'l2_leaf_reg': 1.074777222256696, 'subsample': 0.805469615390896, 'colsample_bylevel': 0.7879853811582616},\n",
        "    'Dongdaemun': {'learning_rate': 0.05090532965560029, 'depth': 4, 'l2_leaf_reg': 2.4336961951246585, 'subsample': 0.9860732586553317, 'colsample_bylevel': 0.8329465092538842},\n",
        "    'Seongdong': {'learning_rate': 0.06865667868137201, 'depth': 5, 'l2_leaf_reg': 3.548575891319757, 'subsample': 0.7118705479838677, 'colsample_bylevel': 0.7334892361378472},\n",
        "    'Jungnang': {'learning_rate': 0.05691151851732044, 'depth': 4, 'l2_leaf_reg': 2.5595777632181074, 'subsample': 0.9751001756331396, 'colsample_bylevel': 0.5490555159536538}\n",
        "}"
      ],
      "metadata": {
        "id": "tunXp4kYOrqp"
      },
      "execution_count": null,
      "outputs": []
    },
    {
      "cell_type": "code",
      "source": [
        "import optuna\n",
        "import numpy as np\n",
        "from sklearn.metrics import mean_squared_error\n",
        "import pandas as pd\n",
        "\n",
        "results_summary = []\n",
        "\n",
        "for target in target_cols:\n",
        "    base_params = best_params_dict[target]\n",
        "\n",
        "    def objective(trial):\n",
        "        params = {\n",
        "            \"iterations\": 1000,\n",
        "            \"learning_rate\": trial.suggest_float(\n",
        "                \"learning_rate\",\n",
        "                max(1e-3, base_params['learning_rate'] * 0.5),\n",
        "                min(0.1, base_params['learning_rate'] * 1.5),\n",
        "                log=True\n",
        "            ),\n",
        "            \"depth\": trial.suggest_int(\n",
        "                \"depth\",\n",
        "                max(4, base_params['depth'] - 1),\n",
        "                min(10, base_params['depth'] + 1)\n",
        "            ),\n",
        "            \"l2_leaf_reg\": trial.suggest_float(\n",
        "                \"l2_leaf_reg\",\n",
        "                max(1, base_params['l2_leaf_reg'] * 0.5),\n",
        "                min(10, base_params['l2_leaf_reg'] * 1.5)\n",
        "            ),\n",
        "            \"subsample\": trial.suggest_float(\n",
        "                \"subsample\",\n",
        "                max(0.6, base_params['subsample'] - 0.1),\n",
        "                min(1.0, base_params['subsample'] + 0.1)\n",
        "            ),\n",
        "            \"colsample_bylevel\": trial.suggest_float(\n",
        "                \"colsample_bylevel\",\n",
        "                max(0.5, base_params['colsample_bylevel'] - 0.1),\n",
        "                min(1.0, base_params['colsample_bylevel'] + 0.1)\n",
        "            ),\n",
        "            \"random_seed\": 42,\n",
        "            \"cat_features\": cat_features,\n",
        "            \"loss_function\": \"RMSE\",\n",
        "            \"verbose\": 0\n",
        "        }\n",
        "        model = cb.CatBoostRegressor(**params)\n",
        "        model.fit(X_train, y_train, eval_set=(X_val, y_val), early_stopping_rounds=50)\n",
        "        preds = model.predict(X_val)\n",
        "        mse = mean_squared_error(y_val, preds)\n",
        "        rmse = np.sqrt(mse)\n",
        "        print(f\"[{target}] RMSE: {rmse:.4f}\")\n",
        "        return rmse\n",
        "\n",
        "    study = optuna.create_study(direction='minimize')\n",
        "    study.optimize(objective, n_trials=30)\n",
        "    print(f\"[{target}] Best RMSE: {study.best_value}\")\n",
        "    print(f\"[{target}] Best params: {study.best_params}\")\n",
        "\n",
        "    # 결과 저장\n",
        "    results_summary.append({\n",
        "        '구': target,\n",
        "        'Best RMSE': round(study.best_value, 4),\n",
        "        'Best Params': study.best_params\n",
        "    })\n",
        "\n",
        "# 반복문 종료 후, 전체 구별 결과 표로 출력\n",
        "summary_df = pd.DataFrame(results_summary)\n",
        "print(\"\\n=== 모든 구별 Optuna Best RMSE & Params 요약 ===\")\n",
        "print(summary_df.to_markdown(index=False))\n"
      ],
      "metadata": {
        "colab": {
          "base_uri": "https://localhost:8080/"
        },
        "id": "Gbjj2-ApOtgp",
        "outputId": "b9b1e361-8d1c-4fa8-bdca-d7be65936801"
      },
      "execution_count": null,
      "outputs": [
        {
          "output_type": "stream",
          "name": "stderr",
          "text": [
            "[I 2025-07-14 10:09:14,901] A new study created in memory with name: no-name-a41f11bf-2441-404b-92a9-324e9b75b4eb\n",
            "[I 2025-07-14 10:09:15,378] Trial 0 finished with value: 1.6039509508392922 and parameters: {'learning_rate': 0.04932112977238453, 'depth': 4, 'l2_leaf_reg': 1.0670645445012201, 'subsample': 0.7658028768690724, 'colsample_bylevel': 0.7285917131834123}. Best is trial 0 with value: 1.6039509508392922.\n"
          ]
        },
        {
          "output_type": "stream",
          "name": "stdout",
          "text": [
            "[Gwangjin] RMSE: 1.6040\n"
          ]
        },
        {
          "output_type": "stream",
          "name": "stderr",
          "text": [
            "[I 2025-07-14 10:09:16,900] Trial 1 finished with value: 1.6178333419224586 and parameters: {'learning_rate': 0.050861957518588866, 'depth': 6, 'l2_leaf_reg': 1.5384168697309861, 'subsample': 0.8067110876860284, 'colsample_bylevel': 0.689492481109061}. Best is trial 0 with value: 1.6039509508392922.\n"
          ]
        },
        {
          "output_type": "stream",
          "name": "stdout",
          "text": [
            "[Gwangjin] RMSE: 1.6178\n"
          ]
        },
        {
          "output_type": "stream",
          "name": "stderr",
          "text": [
            "[I 2025-07-14 10:09:18,592] Trial 2 finished with value: 1.619371837287466 and parameters: {'learning_rate': 0.045216917220661214, 'depth': 6, 'l2_leaf_reg': 1.5921732623337355, 'subsample': 0.8444221029610831, 'colsample_bylevel': 0.8236440702155898}. Best is trial 0 with value: 1.6039509508392922.\n"
          ]
        },
        {
          "output_type": "stream",
          "name": "stdout",
          "text": [
            "[Gwangjin] RMSE: 1.6194\n"
          ]
        },
        {
          "output_type": "stream",
          "name": "stderr",
          "text": [
            "[I 2025-07-14 10:09:18,875] Trial 3 finished with value: 1.6751140191721547 and parameters: {'learning_rate': 0.0725968587266057, 'depth': 4, 'l2_leaf_reg': 1.1976848169212955, 'subsample': 0.7818924409699177, 'colsample_bylevel': 0.6937521967429736}. Best is trial 0 with value: 1.6039509508392922.\n"
          ]
        },
        {
          "output_type": "stream",
          "name": "stdout",
          "text": [
            "[Gwangjin] RMSE: 1.6751\n"
          ]
        },
        {
          "output_type": "stream",
          "name": "stderr",
          "text": [
            "[I 2025-07-14 10:09:19,312] Trial 4 finished with value: 1.6318570131791061 and parameters: {'learning_rate': 0.05217944138168756, 'depth': 4, 'l2_leaf_reg': 1.2113535512921638, 'subsample': 0.8553862431424535, 'colsample_bylevel': 0.7271697896188339}. Best is trial 0 with value: 1.6039509508392922.\n"
          ]
        },
        {
          "output_type": "stream",
          "name": "stdout",
          "text": [
            "[Gwangjin] RMSE: 1.6319\n"
          ]
        },
        {
          "output_type": "stream",
          "name": "stderr",
          "text": [
            "[I 2025-07-14 10:09:20,155] Trial 5 finished with value: 1.6269510422737719 and parameters: {'learning_rate': 0.04674327448396165, 'depth': 6, 'l2_leaf_reg': 1.5352706817419162, 'subsample': 0.719577366053252, 'colsample_bylevel': 0.7986272248481555}. Best is trial 0 with value: 1.6039509508392922.\n"
          ]
        },
        {
          "output_type": "stream",
          "name": "stdout",
          "text": [
            "[Gwangjin] RMSE: 1.6270\n"
          ]
        },
        {
          "output_type": "stream",
          "name": "stderr",
          "text": [
            "[I 2025-07-14 10:09:20,695] Trial 6 finished with value: 1.634879419989176 and parameters: {'learning_rate': 0.05585809553646102, 'depth': 5, 'l2_leaf_reg': 1.5776249044956474, 'subsample': 0.8228150670110641, 'colsample_bylevel': 0.7662549290005305}. Best is trial 0 with value: 1.6039509508392922.\n"
          ]
        },
        {
          "output_type": "stream",
          "name": "stdout",
          "text": [
            "[Gwangjin] RMSE: 1.6349\n"
          ]
        },
        {
          "output_type": "stream",
          "name": "stderr",
          "text": [
            "[I 2025-07-14 10:09:21,123] Trial 7 finished with value: 1.620840740684541 and parameters: {'learning_rate': 0.06365070656491988, 'depth': 4, 'l2_leaf_reg': 1.3853268256239313, 'subsample': 0.875494035731156, 'colsample_bylevel': 0.7044958727373428}. Best is trial 0 with value: 1.6039509508392922.\n"
          ]
        },
        {
          "output_type": "stream",
          "name": "stdout",
          "text": [
            "[Gwangjin] RMSE: 1.6208\n"
          ]
        },
        {
          "output_type": "stream",
          "name": "stderr",
          "text": [
            "[I 2025-07-14 10:09:21,527] Trial 8 finished with value: 1.6219533455378161 and parameters: {'learning_rate': 0.0819094824978896, 'depth': 5, 'l2_leaf_reg': 1.517977372998447, 'subsample': 0.7928410470340043, 'colsample_bylevel': 0.8345816702045045}. Best is trial 0 with value: 1.6039509508392922.\n"
          ]
        },
        {
          "output_type": "stream",
          "name": "stdout",
          "text": [
            "[Gwangjin] RMSE: 1.6220\n"
          ]
        },
        {
          "output_type": "stream",
          "name": "stderr",
          "text": [
            "[I 2025-07-14 10:09:22,015] Trial 9 finished with value: 1.6394772125644783 and parameters: {'learning_rate': 0.07583918592593392, 'depth': 5, 'l2_leaf_reg': 1.2166042002393262, 'subsample': 0.7185550531832057, 'colsample_bylevel': 0.7166370794367584}. Best is trial 0 with value: 1.6039509508392922.\n"
          ]
        },
        {
          "output_type": "stream",
          "name": "stdout",
          "text": [
            "[Gwangjin] RMSE: 1.6395\n"
          ]
        },
        {
          "output_type": "stream",
          "name": "stderr",
          "text": [
            "[I 2025-07-14 10:09:22,459] Trial 10 finished with value: 1.6172452892697278 and parameters: {'learning_rate': 0.040493089958047165, 'depth': 4, 'l2_leaf_reg': 1.0046964164862984, 'subsample': 0.757121247432876, 'colsample_bylevel': 0.8759262660900015}. Best is trial 0 with value: 1.6039509508392922.\n"
          ]
        },
        {
          "output_type": "stream",
          "name": "stdout",
          "text": [
            "[Gwangjin] RMSE: 1.6172\n"
          ]
        },
        {
          "output_type": "stream",
          "name": "stderr",
          "text": [
            "[I 2025-07-14 10:09:23,138] Trial 11 finished with value: 1.6109602152745857 and parameters: {'learning_rate': 0.03803058913005151, 'depth': 4, 'l2_leaf_reg': 1.0252001669924669, 'subsample': 0.7546329419594867, 'colsample_bylevel': 0.872006968077972}. Best is trial 0 with value: 1.6039509508392922.\n"
          ]
        },
        {
          "output_type": "stream",
          "name": "stdout",
          "text": [
            "[Gwangjin] RMSE: 1.6110\n"
          ]
        },
        {
          "output_type": "stream",
          "name": "stderr",
          "text": [
            "[I 2025-07-14 10:09:23,638] Trial 12 finished with value: 1.6226957657327243 and parameters: {'learning_rate': 0.038250120961494, 'depth': 4, 'l2_leaf_reg': 1.0090742587255783, 'subsample': 0.757944088670847, 'colsample_bylevel': 0.7536839295591272}. Best is trial 0 with value: 1.6039509508392922.\n"
          ]
        },
        {
          "output_type": "stream",
          "name": "stdout",
          "text": [
            "[Gwangjin] RMSE: 1.6227\n"
          ]
        },
        {
          "output_type": "stream",
          "name": "stderr",
          "text": [
            "[I 2025-07-14 10:09:24,250] Trial 13 finished with value: 1.6220817307885733 and parameters: {'learning_rate': 0.0373274476069282, 'depth': 4, 'l2_leaf_reg': 1.093613782285702, 'subsample': 0.7525716391575695, 'colsample_bylevel': 0.8862194913142976}. Best is trial 0 with value: 1.6039509508392922.\n"
          ]
        },
        {
          "output_type": "stream",
          "name": "stdout",
          "text": [
            "[Gwangjin] RMSE: 1.6221\n"
          ]
        },
        {
          "output_type": "stream",
          "name": "stderr",
          "text": [
            "[I 2025-07-14 10:09:24,868] Trial 14 finished with value: 1.6286069106089816 and parameters: {'learning_rate': 0.043755537449069355, 'depth': 5, 'l2_leaf_reg': 1.1065207617729764, 'subsample': 0.7444916572085725, 'colsample_bylevel': 0.8462133682008772}. Best is trial 0 with value: 1.6039509508392922.\n"
          ]
        },
        {
          "output_type": "stream",
          "name": "stdout",
          "text": [
            "[Gwangjin] RMSE: 1.6286\n"
          ]
        },
        {
          "output_type": "stream",
          "name": "stderr",
          "text": [
            "[I 2025-07-14 10:09:25,311] Trial 15 finished with value: 1.6204700013205589 and parameters: {'learning_rate': 0.09734626085584447, 'depth': 5, 'l2_leaf_reg': 1.0921246806322509, 'subsample': 0.7787575271476886, 'colsample_bylevel': 0.7906685205281709}. Best is trial 0 with value: 1.6039509508392922.\n"
          ]
        },
        {
          "output_type": "stream",
          "name": "stdout",
          "text": [
            "[Gwangjin] RMSE: 1.6205\n"
          ]
        },
        {
          "output_type": "stream",
          "name": "stderr",
          "text": [
            "[I 2025-07-14 10:09:25,680] Trial 16 finished with value: 1.6073940584098594 and parameters: {'learning_rate': 0.06149590612001948, 'depth': 4, 'l2_leaf_reg': 1.3310932263528867, 'subsample': 0.7344800565220937, 'colsample_bylevel': 0.7424613021229933}. Best is trial 0 with value: 1.6039509508392922.\n"
          ]
        },
        {
          "output_type": "stream",
          "name": "stdout",
          "text": [
            "[Gwangjin] RMSE: 1.6074\n"
          ]
        },
        {
          "output_type": "stream",
          "name": "stderr",
          "text": [
            "[I 2025-07-14 10:09:26,109] Trial 17 finished with value: 1.6043089606660614 and parameters: {'learning_rate': 0.06358160966365431, 'depth': 4, 'l2_leaf_reg': 1.3487280491646314, 'subsample': 0.7088139207199354, 'colsample_bylevel': 0.7419936253088154}. Best is trial 0 with value: 1.6039509508392922.\n"
          ]
        },
        {
          "output_type": "stream",
          "name": "stdout",
          "text": [
            "[Gwangjin] RMSE: 1.6043\n"
          ]
        },
        {
          "output_type": "stream",
          "name": "stderr",
          "text": [
            "[I 2025-07-14 10:09:26,439] Trial 18 finished with value: 1.6202444536352654 and parameters: {'learning_rate': 0.0677629874559678, 'depth': 4, 'l2_leaf_reg': 1.426467478207006, 'subsample': 0.7105872632681436, 'colsample_bylevel': 0.77069203323526}. Best is trial 0 with value: 1.6039509508392922.\n"
          ]
        },
        {
          "output_type": "stream",
          "name": "stdout",
          "text": [
            "[Gwangjin] RMSE: 1.6202\n"
          ]
        },
        {
          "output_type": "stream",
          "name": "stderr",
          "text": [
            "[I 2025-07-14 10:09:26,971] Trial 19 finished with value: 1.6032561846106688 and parameters: {'learning_rate': 0.056586950100153514, 'depth': 5, 'l2_leaf_reg': 1.2850422432918414, 'subsample': 0.9014850926661832, 'colsample_bylevel': 0.7359523325528551}. Best is trial 19 with value: 1.6032561846106688.\n"
          ]
        },
        {
          "output_type": "stream",
          "name": "stdout",
          "text": [
            "[Gwangjin] RMSE: 1.6033\n"
          ]
        },
        {
          "output_type": "stream",
          "name": "stderr",
          "text": [
            "[I 2025-07-14 10:09:27,536] Trial 20 finished with value: 1.6235206960416515 and parameters: {'learning_rate': 0.05341372575395623, 'depth': 5, 'l2_leaf_reg': 1.2669370998177092, 'subsample': 0.9047125286853693, 'colsample_bylevel': 0.7221522930814224}. Best is trial 19 with value: 1.6032561846106688.\n"
          ]
        },
        {
          "output_type": "stream",
          "name": "stdout",
          "text": [
            "[Gwangjin] RMSE: 1.6235\n"
          ]
        },
        {
          "output_type": "stream",
          "name": "stderr",
          "text": [
            "[I 2025-07-14 10:09:28,025] Trial 21 finished with value: 1.6128991242697168 and parameters: {'learning_rate': 0.056738038008202235, 'depth': 5, 'l2_leaf_reg': 1.4072617640361755, 'subsample': 0.8993646729885649, 'colsample_bylevel': 0.7403972757237877}. Best is trial 19 with value: 1.6032561846106688.\n"
          ]
        },
        {
          "output_type": "stream",
          "name": "stdout",
          "text": [
            "[Gwangjin] RMSE: 1.6129\n"
          ]
        },
        {
          "output_type": "stream",
          "name": "stderr",
          "text": [
            "[I 2025-07-14 10:09:29,072] Trial 22 finished with value: 1.6049178257060486 and parameters: {'learning_rate': 0.04890606387169724, 'depth': 6, 'l2_leaf_reg': 1.3284261098548664, 'subsample': 0.8178369496247696, 'colsample_bylevel': 0.7574848096680522}. Best is trial 19 with value: 1.6032561846106688.\n"
          ]
        },
        {
          "output_type": "stream",
          "name": "stdout",
          "text": [
            "[Gwangjin] RMSE: 1.6049\n"
          ]
        },
        {
          "output_type": "stream",
          "name": "stderr",
          "text": [
            "[I 2025-07-14 10:09:30,006] Trial 23 finished with value: 1.6503093669947613 and parameters: {'learning_rate': 0.058668537054422716, 'depth': 4, 'l2_leaf_reg': 1.4559109917620316, 'subsample': 0.8433814293851791, 'colsample_bylevel': 0.7380499674282917}. Best is trial 19 with value: 1.6032561846106688.\n"
          ]
        },
        {
          "output_type": "stream",
          "name": "stdout",
          "text": [
            "[Gwangjin] RMSE: 1.6503\n"
          ]
        },
        {
          "output_type": "stream",
          "name": "stderr",
          "text": [
            "[I 2025-07-14 10:09:31,073] Trial 24 finished with value: 1.6348251357396377 and parameters: {'learning_rate': 0.06475787723148341, 'depth': 5, 'l2_leaf_reg': 1.2614676198778452, 'subsample': 0.8724140621817986, 'colsample_bylevel': 0.7769169405113352}. Best is trial 19 with value: 1.6032561846106688.\n"
          ]
        },
        {
          "output_type": "stream",
          "name": "stdout",
          "text": [
            "[Gwangjin] RMSE: 1.6348\n"
          ]
        },
        {
          "output_type": "stream",
          "name": "stderr",
          "text": [
            "[I 2025-07-14 10:09:31,389] Trial 25 finished with value: 1.5771223101019969 and parameters: {'learning_rate': 0.08274872359856976, 'depth': 4, 'l2_leaf_reg': 1.1410925774848972, 'subsample': 0.7734725349254379, 'colsample_bylevel': 0.7102923892324475}. Best is trial 25 with value: 1.5771223101019969.\n"
          ]
        },
        {
          "output_type": "stream",
          "name": "stdout",
          "text": [
            "[Gwangjin] RMSE: 1.5771\n"
          ]
        },
        {
          "output_type": "stream",
          "name": "stderr",
          "text": [
            "[I 2025-07-14 10:09:31,759] Trial 26 finished with value: 1.6415419461497744 and parameters: {'learning_rate': 0.09176925828869639, 'depth': 5, 'l2_leaf_reg': 1.15179325079497, 'subsample': 0.7763556843427051, 'colsample_bylevel': 0.7101605962854247}. Best is trial 25 with value: 1.5771223101019969.\n"
          ]
        },
        {
          "output_type": "stream",
          "name": "stdout",
          "text": [
            "[Gwangjin] RMSE: 1.6415\n"
          ]
        },
        {
          "output_type": "stream",
          "name": "stderr",
          "text": [
            "[I 2025-07-14 10:09:32,125] Trial 27 finished with value: 1.6316956401357054 and parameters: {'learning_rate': 0.08374742770630607, 'depth': 4, 'l2_leaf_reg': 1.1544921665580499, 'subsample': 0.7937918187085103, 'colsample_bylevel': 0.7051509378677308}. Best is trial 25 with value: 1.5771223101019969.\n"
          ]
        },
        {
          "output_type": "stream",
          "name": "stdout",
          "text": [
            "[Gwangjin] RMSE: 1.6317\n"
          ]
        },
        {
          "output_type": "stream",
          "name": "stderr",
          "text": [
            "[I 2025-07-14 10:09:32,565] Trial 28 finished with value: 1.596771198790516 and parameters: {'learning_rate': 0.07041881059506688, 'depth': 5, 'l2_leaf_reg': 1.06005465493856, 'subsample': 0.8257378544007278, 'colsample_bylevel': 0.7272638466068242}. Best is trial 25 with value: 1.5771223101019969.\n"
          ]
        },
        {
          "output_type": "stream",
          "name": "stdout",
          "text": [
            "[Gwangjin] RMSE: 1.5968\n"
          ]
        },
        {
          "output_type": "stream",
          "name": "stderr",
          "text": [
            "[I 2025-07-14 10:09:33,175] Trial 29 finished with value: 1.6263953507889577 and parameters: {'learning_rate': 0.07162054729691594, 'depth': 6, 'l2_leaf_reg': 1.0642037609743271, 'subsample': 0.8861666642828377, 'colsample_bylevel': 0.7271420590478332}. Best is trial 25 with value: 1.5771223101019969.\n",
            "[I 2025-07-14 10:09:33,176] A new study created in memory with name: no-name-ecb6a83c-2efc-4f00-a915-be577dd426a8\n"
          ]
        },
        {
          "output_type": "stream",
          "name": "stdout",
          "text": [
            "[Gwangjin] RMSE: 1.6264\n",
            "[Gwangjin] Best RMSE: 1.5771223101019969\n",
            "[Gwangjin] Best params: {'learning_rate': 0.08274872359856976, 'depth': 4, 'l2_leaf_reg': 1.1410925774848972, 'subsample': 0.7734725349254379, 'colsample_bylevel': 0.7102923892324475}\n"
          ]
        },
        {
          "output_type": "stream",
          "name": "stderr",
          "text": [
            "[I 2025-07-14 10:09:33,670] Trial 0 finished with value: 1.6168907759465512 and parameters: {'learning_rate': 0.04796804908773872, 'depth': 4, 'l2_leaf_reg': 1.6171999645079338, 'subsample': 0.9496199563981723, 'colsample_bylevel': 0.7719449285989033}. Best is trial 0 with value: 1.6168907759465512.\n"
          ]
        },
        {
          "output_type": "stream",
          "name": "stdout",
          "text": [
            "[Dongdaemun] RMSE: 1.6169\n"
          ]
        },
        {
          "output_type": "stream",
          "name": "stderr",
          "text": [
            "[I 2025-07-14 10:09:34,296] Trial 1 finished with value: 1.6154991375470322 and parameters: {'learning_rate': 0.03179894074606767, 'depth': 4, 'l2_leaf_reg': 2.8908104643911625, 'subsample': 0.9665678303229849, 'colsample_bylevel': 0.8614806973475941}. Best is trial 1 with value: 1.6154991375470322.\n"
          ]
        },
        {
          "output_type": "stream",
          "name": "stdout",
          "text": [
            "[Dongdaemun] RMSE: 1.6155\n"
          ]
        },
        {
          "output_type": "stream",
          "name": "stderr",
          "text": [
            "[I 2025-07-14 10:09:34,887] Trial 2 finished with value: 1.6319211193565548 and parameters: {'learning_rate': 0.03060900130468406, 'depth': 4, 'l2_leaf_reg': 2.2592349185698377, 'subsample': 0.9380193758632185, 'colsample_bylevel': 0.7710576668129567}. Best is trial 1 with value: 1.6154991375470322.\n"
          ]
        },
        {
          "output_type": "stream",
          "name": "stdout",
          "text": [
            "[Dongdaemun] RMSE: 1.6319\n"
          ]
        },
        {
          "output_type": "stream",
          "name": "stderr",
          "text": [
            "[I 2025-07-14 10:09:35,358] Trial 3 finished with value: 1.6137704392090115 and parameters: {'learning_rate': 0.04022063478369526, 'depth': 4, 'l2_leaf_reg': 1.601861799890069, 'subsample': 0.9485483924018616, 'colsample_bylevel': 0.90026445302598}. Best is trial 3 with value: 1.6137704392090115.\n"
          ]
        },
        {
          "output_type": "stream",
          "name": "stdout",
          "text": [
            "[Dongdaemun] RMSE: 1.6138\n"
          ]
        },
        {
          "output_type": "stream",
          "name": "stderr",
          "text": [
            "[I 2025-07-14 10:09:35,959] Trial 4 finished with value: 1.6051515216203365 and parameters: {'learning_rate': 0.052602056588837355, 'depth': 4, 'l2_leaf_reg': 2.3081878930322883, 'subsample': 0.9525714516781165, 'colsample_bylevel': 0.8236013945119509}. Best is trial 4 with value: 1.6051515216203365.\n"
          ]
        },
        {
          "output_type": "stream",
          "name": "stdout",
          "text": [
            "[Dongdaemun] RMSE: 1.6052\n"
          ]
        },
        {
          "output_type": "stream",
          "name": "stderr",
          "text": [
            "[I 2025-07-14 10:09:36,601] Trial 5 finished with value: 1.6307590530925544 and parameters: {'learning_rate': 0.029446153415697948, 'depth': 4, 'l2_leaf_reg': 2.365051369549696, 'subsample': 0.9303813893784142, 'colsample_bylevel': 0.7581148406631596}. Best is trial 4 with value: 1.6051515216203365.\n"
          ]
        },
        {
          "output_type": "stream",
          "name": "stdout",
          "text": [
            "[Dongdaemun] RMSE: 1.6308\n"
          ]
        },
        {
          "output_type": "stream",
          "name": "stderr",
          "text": [
            "[I 2025-07-14 10:09:37,309] Trial 6 finished with value: 1.6092991895191324 and parameters: {'learning_rate': 0.031354804106747354, 'depth': 4, 'l2_leaf_reg': 3.6366563907331084, 'subsample': 0.9522711423617194, 'colsample_bylevel': 0.7461753804089658}. Best is trial 4 with value: 1.6051515216203365.\n"
          ]
        },
        {
          "output_type": "stream",
          "name": "stdout",
          "text": [
            "[Dongdaemun] RMSE: 1.6093\n"
          ]
        },
        {
          "output_type": "stream",
          "name": "stderr",
          "text": [
            "[I 2025-07-14 10:09:37,781] Trial 7 finished with value: 1.6095905430880528 and parameters: {'learning_rate': 0.039904037965856315, 'depth': 4, 'l2_leaf_reg': 1.478478997481827, 'subsample': 0.9952864426132079, 'colsample_bylevel': 0.7811490391178603}. Best is trial 4 with value: 1.6051515216203365.\n"
          ]
        },
        {
          "output_type": "stream",
          "name": "stdout",
          "text": [
            "[Dongdaemun] RMSE: 1.6096\n"
          ]
        },
        {
          "output_type": "stream",
          "name": "stderr",
          "text": [
            "[I 2025-07-14 10:09:38,661] Trial 8 finished with value: 1.6091832711267506 and parameters: {'learning_rate': 0.027052970296514846, 'depth': 4, 'l2_leaf_reg': 3.4639274618486873, 'subsample': 0.9283495729692971, 'colsample_bylevel': 0.8758445552048761}. Best is trial 4 with value: 1.6051515216203365.\n"
          ]
        },
        {
          "output_type": "stream",
          "name": "stdout",
          "text": [
            "[Dongdaemun] RMSE: 1.6092\n"
          ]
        },
        {
          "output_type": "stream",
          "name": "stderr",
          "text": [
            "[I 2025-07-14 10:09:39,724] Trial 9 finished with value: 1.6040072064421398 and parameters: {'learning_rate': 0.04101339888626344, 'depth': 5, 'l2_leaf_reg': 3.3628811248216346, 'subsample': 0.9573259667743678, 'colsample_bylevel': 0.9133070744544888}. Best is trial 9 with value: 1.6040072064421398.\n"
          ]
        },
        {
          "output_type": "stream",
          "name": "stdout",
          "text": [
            "[Dongdaemun] RMSE: 1.6040\n"
          ]
        },
        {
          "output_type": "stream",
          "name": "stderr",
          "text": [
            "[I 2025-07-14 10:09:40,251] Trial 10 finished with value: 1.6559196217951342 and parameters: {'learning_rate': 0.07281849682290606, 'depth': 5, 'l2_leaf_reg': 3.1629467155387925, 'subsample': 0.8936529176200579, 'colsample_bylevel': 0.9236240535409906}. Best is trial 9 with value: 1.6040072064421398.\n"
          ]
        },
        {
          "output_type": "stream",
          "name": "stdout",
          "text": [
            "[Dongdaemun] RMSE: 1.6559\n"
          ]
        },
        {
          "output_type": "stream",
          "name": "stderr",
          "text": [
            "[I 2025-07-14 10:09:40,793] Trial 11 finished with value: 1.6206155466512464 and parameters: {'learning_rate': 0.053887158565089785, 'depth': 5, 'l2_leaf_reg': 2.728528890860454, 'subsample': 0.9782229038405073, 'colsample_bylevel': 0.8207071735204546}. Best is trial 9 with value: 1.6040072064421398.\n"
          ]
        },
        {
          "output_type": "stream",
          "name": "stdout",
          "text": [
            "[Dongdaemun] RMSE: 1.6206\n"
          ]
        },
        {
          "output_type": "stream",
          "name": "stderr",
          "text": [
            "[I 2025-07-14 10:09:41,976] Trial 12 finished with value: 1.6072396102286992 and parameters: {'learning_rate': 0.06259045981857883, 'depth': 5, 'l2_leaf_reg': 2.049512131496531, 'subsample': 0.9017094640911585, 'colsample_bylevel': 0.8217863191304237}. Best is trial 9 with value: 1.6040072064421398.\n"
          ]
        },
        {
          "output_type": "stream",
          "name": "stdout",
          "text": [
            "[Dongdaemun] RMSE: 1.6072\n"
          ]
        },
        {
          "output_type": "stream",
          "name": "stderr",
          "text": [
            "[I 2025-07-14 10:09:43,721] Trial 13 finished with value: 1.6255944497139843 and parameters: {'learning_rate': 0.04868021428514586, 'depth': 5, 'l2_leaf_reg': 2.7481333826601997, 'subsample': 0.9727105820008561, 'colsample_bylevel': 0.8516311426759863}. Best is trial 9 with value: 1.6040072064421398.\n"
          ]
        },
        {
          "output_type": "stream",
          "name": "stdout",
          "text": [
            "[Dongdaemun] RMSE: 1.6256\n"
          ]
        },
        {
          "output_type": "stream",
          "name": "stderr",
          "text": [
            "[I 2025-07-14 10:09:44,425] Trial 14 finished with value: 1.607037510604648 and parameters: {'learning_rate': 0.038785770349454754, 'depth': 5, 'l2_leaf_reg': 1.921385634732562, 'subsample': 0.9145197604931278, 'colsample_bylevel': 0.8038175731422273}. Best is trial 9 with value: 1.6040072064421398.\n"
          ]
        },
        {
          "output_type": "stream",
          "name": "stdout",
          "text": [
            "[Dongdaemun] RMSE: 1.6070\n"
          ]
        },
        {
          "output_type": "stream",
          "name": "stderr",
          "text": [
            "[I 2025-07-14 10:09:45,020] Trial 15 finished with value: 1.6272131259825071 and parameters: {'learning_rate': 0.05842547377977386, 'depth': 5, 'l2_leaf_reg': 3.125580721059535, 'subsample': 0.9622418047917164, 'colsample_bylevel': 0.9299201003210954}. Best is trial 9 with value: 1.6040072064421398.\n"
          ]
        },
        {
          "output_type": "stream",
          "name": "stdout",
          "text": [
            "[Dongdaemun] RMSE: 1.6272\n"
          ]
        },
        {
          "output_type": "stream",
          "name": "stderr",
          "text": [
            "[I 2025-07-14 10:09:46,002] Trial 16 finished with value: 1.6005038282417436 and parameters: {'learning_rate': 0.035684666589081177, 'depth': 5, 'l2_leaf_reg': 2.5615177856268607, 'subsample': 0.9855306154465298, 'colsample_bylevel': 0.8916098385851127}. Best is trial 16 with value: 1.6005038282417436.\n"
          ]
        },
        {
          "output_type": "stream",
          "name": "stdout",
          "text": [
            "[Dongdaemun] RMSE: 1.6005\n"
          ]
        },
        {
          "output_type": "stream",
          "name": "stderr",
          "text": [
            "[I 2025-07-14 10:09:47,033] Trial 17 finished with value: 1.615935097912461 and parameters: {'learning_rate': 0.034775787587587384, 'depth': 5, 'l2_leaf_reg': 3.1908784051890846, 'subsample': 0.9967219688438723, 'colsample_bylevel': 0.8971382367956552}. Best is trial 16 with value: 1.6005038282417436.\n"
          ]
        },
        {
          "output_type": "stream",
          "name": "stdout",
          "text": [
            "[Dongdaemun] RMSE: 1.6159\n"
          ]
        },
        {
          "output_type": "stream",
          "name": "stderr",
          "text": [
            "[I 2025-07-14 10:09:47,689] Trial 18 finished with value: 1.6394384014816752 and parameters: {'learning_rate': 0.0360652532444833, 'depth': 5, 'l2_leaf_reg': 1.2287303336645647, 'subsample': 0.983971593380221, 'colsample_bylevel': 0.8975611566956404}. Best is trial 16 with value: 1.6005038282417436.\n"
          ]
        },
        {
          "output_type": "stream",
          "name": "stdout",
          "text": [
            "[Dongdaemun] RMSE: 1.6394\n"
          ]
        },
        {
          "output_type": "stream",
          "name": "stderr",
          "text": [
            "[I 2025-07-14 10:09:48,343] Trial 19 finished with value: 1.639942230937439 and parameters: {'learning_rate': 0.04390744517396382, 'depth': 5, 'l2_leaf_reg': 2.602237857141323, 'subsample': 0.9870086057645956, 'colsample_bylevel': 0.876486373827916}. Best is trial 16 with value: 1.6005038282417436.\n"
          ]
        },
        {
          "output_type": "stream",
          "name": "stdout",
          "text": [
            "[Dongdaemun] RMSE: 1.6399\n"
          ]
        },
        {
          "output_type": "stream",
          "name": "stderr",
          "text": [
            "[I 2025-07-14 10:09:49,858] Trial 20 finished with value: 1.5760630859520222 and parameters: {'learning_rate': 0.043837413168812706, 'depth': 5, 'l2_leaf_reg': 3.4410785537257955, 'subsample': 0.9623938396990745, 'colsample_bylevel': 0.9159718519959165}. Best is trial 20 with value: 1.5760630859520222.\n"
          ]
        },
        {
          "output_type": "stream",
          "name": "stdout",
          "text": [
            "[Dongdaemun] RMSE: 1.5761\n"
          ]
        },
        {
          "output_type": "stream",
          "name": "stderr",
          "text": [
            "[I 2025-07-14 10:09:51,076] Trial 21 finished with value: 1.5946307354555496 and parameters: {'learning_rate': 0.044045399297208736, 'depth': 5, 'l2_leaf_reg': 3.4436703305927487, 'subsample': 0.9637244383289123, 'colsample_bylevel': 0.9143015897266086}. Best is trial 20 with value: 1.5760630859520222.\n"
          ]
        },
        {
          "output_type": "stream",
          "name": "stdout",
          "text": [
            "[Dongdaemun] RMSE: 1.5946\n"
          ]
        },
        {
          "output_type": "stream",
          "name": "stderr",
          "text": [
            "[I 2025-07-14 10:09:51,700] Trial 22 finished with value: 1.6083617567433866 and parameters: {'learning_rate': 0.04560911725986036, 'depth': 5, 'l2_leaf_reg': 3.606398856979717, 'subsample': 0.9722939298894042, 'colsample_bylevel': 0.8803573112243632}. Best is trial 20 with value: 1.5760630859520222.\n"
          ]
        },
        {
          "output_type": "stream",
          "name": "stdout",
          "text": [
            "[Dongdaemun] RMSE: 1.6084\n"
          ]
        },
        {
          "output_type": "stream",
          "name": "stderr",
          "text": [
            "[I 2025-07-14 10:09:52,484] Trial 23 finished with value: 1.653544171792841 and parameters: {'learning_rate': 0.036863287005878875, 'depth': 5, 'l2_leaf_reg': 2.94436650000019, 'subsample': 0.9852637547562252, 'colsample_bylevel': 0.9133725645319263}. Best is trial 20 with value: 1.5760630859520222.\n"
          ]
        },
        {
          "output_type": "stream",
          "name": "stdout",
          "text": [
            "[Dongdaemun] RMSE: 1.6535\n"
          ]
        },
        {
          "output_type": "stream",
          "name": "stderr",
          "text": [
            "[I 2025-07-14 10:09:53,830] Trial 24 finished with value: 1.6147618784919737 and parameters: {'learning_rate': 0.033871715074239236, 'depth': 5, 'l2_leaf_reg': 3.3511877865559176, 'subsample': 0.967791655611793, 'colsample_bylevel': 0.8450215529168214}. Best is trial 20 with value: 1.5760630859520222.\n"
          ]
        },
        {
          "output_type": "stream",
          "name": "stdout",
          "text": [
            "[Dongdaemun] RMSE: 1.6148\n"
          ]
        },
        {
          "output_type": "stream",
          "name": "stderr",
          "text": [
            "[I 2025-07-14 10:09:56,437] Trial 25 finished with value: 1.6074257998587036 and parameters: {'learning_rate': 0.04455800289833277, 'depth': 5, 'l2_leaf_reg': 3.0040834952932145, 'subsample': 0.9368944325909639, 'colsample_bylevel': 0.9327850288261261}. Best is trial 20 with value: 1.5760630859520222.\n"
          ]
        },
        {
          "output_type": "stream",
          "name": "stdout",
          "text": [
            "[Dongdaemun] RMSE: 1.6074\n"
          ]
        },
        {
          "output_type": "stream",
          "name": "stderr",
          "text": [
            "[I 2025-07-14 10:09:57,227] Trial 26 finished with value: 1.6081441808930985 and parameters: {'learning_rate': 0.05171121165596352, 'depth': 5, 'l2_leaf_reg': 2.5771845295175466, 'subsample': 0.9771811138813664, 'colsample_bylevel': 0.8907145582408097}. Best is trial 20 with value: 1.5760630859520222.\n"
          ]
        },
        {
          "output_type": "stream",
          "name": "stdout",
          "text": [
            "[Dongdaemun] RMSE: 1.6081\n"
          ]
        },
        {
          "output_type": "stream",
          "name": "stderr",
          "text": [
            "[I 2025-07-14 10:09:58,800] Trial 27 finished with value: 1.6094951113364648 and parameters: {'learning_rate': 0.027212835553415294, 'depth': 5, 'l2_leaf_reg': 3.3922791989305194, 'subsample': 0.9626044500734675, 'colsample_bylevel': 0.9093656375757766}. Best is trial 20 with value: 1.5760630859520222.\n"
          ]
        },
        {
          "output_type": "stream",
          "name": "stdout",
          "text": [
            "[Dongdaemun] RMSE: 1.6095\n"
          ]
        },
        {
          "output_type": "stream",
          "name": "stderr",
          "text": [
            "[I 2025-07-14 10:09:59,410] Trial 28 finished with value: 1.6534743116254325 and parameters: {'learning_rate': 0.04241772799539181, 'depth': 5, 'l2_leaf_reg': 2.0573111713870444, 'subsample': 0.9997745658219819, 'colsample_bylevel': 0.8641050142119439}. Best is trial 20 with value: 1.5760630859520222.\n"
          ]
        },
        {
          "output_type": "stream",
          "name": "stdout",
          "text": [
            "[Dongdaemun] RMSE: 1.6535\n"
          ]
        },
        {
          "output_type": "stream",
          "name": "stderr",
          "text": [
            "[I 2025-07-14 10:10:00,284] Trial 29 finished with value: 1.5997211392796813 and parameters: {'learning_rate': 0.048082009074616114, 'depth': 5, 'l2_leaf_reg': 3.5213730035816084, 'subsample': 0.989961619258188, 'colsample_bylevel': 0.9160770385084006}. Best is trial 20 with value: 1.5760630859520222.\n",
            "[I 2025-07-14 10:10:00,288] A new study created in memory with name: no-name-49c158a7-9fb1-441c-baf5-19aceb39e838\n"
          ]
        },
        {
          "output_type": "stream",
          "name": "stdout",
          "text": [
            "[Dongdaemun] RMSE: 1.5997\n",
            "[Dongdaemun] Best RMSE: 1.5760630859520222\n",
            "[Dongdaemun] Best params: {'learning_rate': 0.043837413168812706, 'depth': 5, 'l2_leaf_reg': 3.4410785537257955, 'subsample': 0.9623938396990745, 'colsample_bylevel': 0.9159718519959165}\n"
          ]
        },
        {
          "output_type": "stream",
          "name": "stderr",
          "text": [
            "[I 2025-07-14 10:10:00,555] Trial 0 finished with value: 1.6393365599451812 and parameters: {'learning_rate': 0.08170294184736304, 'depth': 4, 'l2_leaf_reg': 3.738188377301685, 'subsample': 0.6691149289595192, 'colsample_bylevel': 0.6788668937627801}. Best is trial 0 with value: 1.6393365599451812.\n"
          ]
        },
        {
          "output_type": "stream",
          "name": "stdout",
          "text": [
            "[Seongdong] RMSE: 1.6393\n"
          ]
        },
        {
          "output_type": "stream",
          "name": "stderr",
          "text": [
            "[I 2025-07-14 10:10:00,964] Trial 1 finished with value: 1.6198956200401926 and parameters: {'learning_rate': 0.07117097015020596, 'depth': 5, 'l2_leaf_reg': 3.706718264184386, 'subsample': 0.6663440429419811, 'colsample_bylevel': 0.6782186500352524}. Best is trial 1 with value: 1.6198956200401926.\n"
          ]
        },
        {
          "output_type": "stream",
          "name": "stdout",
          "text": [
            "[Seongdong] RMSE: 1.6199\n"
          ]
        },
        {
          "output_type": "stream",
          "name": "stderr",
          "text": [
            "[I 2025-07-14 10:10:01,527] Trial 2 finished with value: 1.6029340593286103 and parameters: {'learning_rate': 0.052790397947136844, 'depth': 4, 'l2_leaf_reg': 3.959942491866297, 'subsample': 0.7648599684759996, 'colsample_bylevel': 0.8105597135948859}. Best is trial 2 with value: 1.6029340593286103.\n"
          ]
        },
        {
          "output_type": "stream",
          "name": "stdout",
          "text": [
            "[Seongdong] RMSE: 1.6029\n"
          ]
        },
        {
          "output_type": "stream",
          "name": "stderr",
          "text": [
            "[I 2025-07-14 10:10:02,032] Trial 3 finished with value: 1.607871471955139 and parameters: {'learning_rate': 0.044174632700878805, 'depth': 4, 'l2_leaf_reg': 2.9690841822003895, 'subsample': 0.8057560213158872, 'colsample_bylevel': 0.8019866677674176}. Best is trial 2 with value: 1.6029340593286103.\n"
          ]
        },
        {
          "output_type": "stream",
          "name": "stdout",
          "text": [
            "[Seongdong] RMSE: 1.6079\n"
          ]
        },
        {
          "output_type": "stream",
          "name": "stderr",
          "text": [
            "[I 2025-07-14 10:10:02,866] Trial 4 finished with value: 1.6382353728548027 and parameters: {'learning_rate': 0.09326187278021185, 'depth': 6, 'l2_leaf_reg': 5.095270437719329, 'subsample': 0.7462189025037831, 'colsample_bylevel': 0.7353761968152532}. Best is trial 2 with value: 1.6029340593286103.\n"
          ]
        },
        {
          "output_type": "stream",
          "name": "stdout",
          "text": [
            "[Seongdong] RMSE: 1.6382\n"
          ]
        },
        {
          "output_type": "stream",
          "name": "stderr",
          "text": [
            "[I 2025-07-14 10:10:03,684] Trial 5 finished with value: 1.6194317257840325 and parameters: {'learning_rate': 0.056283194755565875, 'depth': 6, 'l2_leaf_reg': 4.615365552438019, 'subsample': 0.8083930582025043, 'colsample_bylevel': 0.6858827754652707}. Best is trial 2 with value: 1.6029340593286103.\n"
          ]
        },
        {
          "output_type": "stream",
          "name": "stdout",
          "text": [
            "[Seongdong] RMSE: 1.6194\n"
          ]
        },
        {
          "output_type": "stream",
          "name": "stderr",
          "text": [
            "[I 2025-07-14 10:10:04,480] Trial 6 finished with value: 1.6260699023468643 and parameters: {'learning_rate': 0.05552385116562524, 'depth': 5, 'l2_leaf_reg': 4.856928997918467, 'subsample': 0.7048533465141136, 'colsample_bylevel': 0.6549106868069994}. Best is trial 2 with value: 1.6029340593286103.\n"
          ]
        },
        {
          "output_type": "stream",
          "name": "stdout",
          "text": [
            "[Seongdong] RMSE: 1.6261\n"
          ]
        },
        {
          "output_type": "stream",
          "name": "stderr",
          "text": [
            "[I 2025-07-14 10:10:04,948] Trial 7 finished with value: 1.6403137594479165 and parameters: {'learning_rate': 0.06499777693263087, 'depth': 5, 'l2_leaf_reg': 1.9691280505220958, 'subsample': 0.7464665775345288, 'colsample_bylevel': 0.8036857726965947}. Best is trial 2 with value: 1.6029340593286103.\n"
          ]
        },
        {
          "output_type": "stream",
          "name": "stdout",
          "text": [
            "[Seongdong] RMSE: 1.6403\n"
          ]
        },
        {
          "output_type": "stream",
          "name": "stderr",
          "text": [
            "[I 2025-07-14 10:10:05,163] Trial 8 finished with value: 1.6175461667940472 and parameters: {'learning_rate': 0.09780016552784129, 'depth': 4, 'l2_leaf_reg': 2.7778867973049244, 'subsample': 0.7155762953717358, 'colsample_bylevel': 0.6778513253752511}. Best is trial 2 with value: 1.6029340593286103.\n"
          ]
        },
        {
          "output_type": "stream",
          "name": "stdout",
          "text": [
            "[Seongdong] RMSE: 1.6175\n"
          ]
        },
        {
          "output_type": "stream",
          "name": "stderr",
          "text": [
            "[I 2025-07-14 10:10:05,841] Trial 9 finished with value: 1.6060047307837204 and parameters: {'learning_rate': 0.07542085229456519, 'depth': 6, 'l2_leaf_reg': 4.9292697507878325, 'subsample': 0.7366076791356768, 'colsample_bylevel': 0.8189702924665203}. Best is trial 2 with value: 1.6029340593286103.\n"
          ]
        },
        {
          "output_type": "stream",
          "name": "stdout",
          "text": [
            "[Seongdong] RMSE: 1.6060\n"
          ]
        },
        {
          "output_type": "stream",
          "name": "stderr",
          "text": [
            "[I 2025-07-14 10:10:06,305] Trial 10 finished with value: 1.625807044700442 and parameters: {'learning_rate': 0.036505918845554194, 'depth': 4, 'l2_leaf_reg': 4.189751961250893, 'subsample': 0.6194605692984864, 'colsample_bylevel': 0.7605846451323909}. Best is trial 2 with value: 1.6029340593286103.\n"
          ]
        },
        {
          "output_type": "stream",
          "name": "stdout",
          "text": [
            "[Seongdong] RMSE: 1.6258\n"
          ]
        },
        {
          "output_type": "stream",
          "name": "stderr",
          "text": [
            "[I 2025-07-14 10:10:08,882] Trial 11 finished with value: 1.6022697799498367 and parameters: {'learning_rate': 0.048399960766029634, 'depth': 6, 'l2_leaf_reg': 4.327961416390573, 'subsample': 0.7715019932320595, 'colsample_bylevel': 0.8316245196967351}. Best is trial 11 with value: 1.6022697799498367.\n"
          ]
        },
        {
          "output_type": "stream",
          "name": "stdout",
          "text": [
            "[Seongdong] RMSE: 1.6023\n"
          ]
        },
        {
          "output_type": "stream",
          "name": "stderr",
          "text": [
            "[I 2025-07-14 10:10:09,429] Trial 12 finished with value: 1.618907885103032 and parameters: {'learning_rate': 0.048840128392294964, 'depth': 5, 'l2_leaf_reg': 4.224867330925589, 'subsample': 0.7743240169319603, 'colsample_bylevel': 0.8305390840933924}. Best is trial 11 with value: 1.6022697799498367.\n"
          ]
        },
        {
          "output_type": "stream",
          "name": "stdout",
          "text": [
            "[Seongdong] RMSE: 1.6189\n"
          ]
        },
        {
          "output_type": "stream",
          "name": "stderr",
          "text": [
            "[I 2025-07-14 10:10:10,693] Trial 13 finished with value: 1.6010803090447592 and parameters: {'learning_rate': 0.04286071842835187, 'depth': 6, 'l2_leaf_reg': 3.12947380102969, 'subsample': 0.7817614227480475, 'colsample_bylevel': 0.7760753896377881}. Best is trial 13 with value: 1.6010803090447592.\n"
          ]
        },
        {
          "output_type": "stream",
          "name": "stdout",
          "text": [
            "[Seongdong] RMSE: 1.6011\n"
          ]
        },
        {
          "output_type": "stream",
          "name": "stderr",
          "text": [
            "[I 2025-07-14 10:10:11,608] Trial 14 finished with value: 1.655699711795492 and parameters: {'learning_rate': 0.038718345334465436, 'depth': 6, 'l2_leaf_reg': 3.122350089796398, 'subsample': 0.7835647722489348, 'colsample_bylevel': 0.7708495860577099}. Best is trial 13 with value: 1.6010803090447592.\n"
          ]
        },
        {
          "output_type": "stream",
          "name": "stdout",
          "text": [
            "[Seongdong] RMSE: 1.6557\n"
          ]
        },
        {
          "output_type": "stream",
          "name": "stderr",
          "text": [
            "[I 2025-07-14 10:10:12,501] Trial 15 finished with value: 1.6423234352389746 and parameters: {'learning_rate': 0.04335253823439573, 'depth': 6, 'l2_leaf_reg': 2.3084736511790105, 'subsample': 0.7844467815135716, 'colsample_bylevel': 0.770689194157065}. Best is trial 13 with value: 1.6010803090447592.\n"
          ]
        },
        {
          "output_type": "stream",
          "name": "stdout",
          "text": [
            "[Seongdong] RMSE: 1.6423\n"
          ]
        },
        {
          "output_type": "stream",
          "name": "stderr",
          "text": [
            "[I 2025-07-14 10:10:13,440] Trial 16 finished with value: 1.6303121637301958 and parameters: {'learning_rate': 0.043632915745917315, 'depth': 6, 'l2_leaf_reg': 3.2994287701625877, 'subsample': 0.7125348829845785, 'colsample_bylevel': 0.7264936046062502}. Best is trial 13 with value: 1.6010803090447592.\n"
          ]
        },
        {
          "output_type": "stream",
          "name": "stdout",
          "text": [
            "[Seongdong] RMSE: 1.6303\n"
          ]
        },
        {
          "output_type": "stream",
          "name": "stderr",
          "text": [
            "[I 2025-07-14 10:10:14,750] Trial 17 finished with value: 1.6152718615486 and parameters: {'learning_rate': 0.03485187003879021, 'depth': 6, 'l2_leaf_reg': 4.486162685534424, 'subsample': 0.7554594033862143, 'colsample_bylevel': 0.7857534916788551}. Best is trial 13 with value: 1.6010803090447592.\n"
          ]
        },
        {
          "output_type": "stream",
          "name": "stdout",
          "text": [
            "[Seongdong] RMSE: 1.6153\n"
          ]
        },
        {
          "output_type": "stream",
          "name": "stderr",
          "text": [
            "[I 2025-07-14 10:10:15,496] Trial 18 finished with value: 1.6431852223997352 and parameters: {'learning_rate': 0.04917985058165146, 'depth': 5, 'l2_leaf_reg': 2.5388397117914074, 'subsample': 0.7943854133641829, 'colsample_bylevel': 0.7413847795072479}. Best is trial 13 with value: 1.6010803090447592.\n"
          ]
        },
        {
          "output_type": "stream",
          "name": "stdout",
          "text": [
            "[Seongdong] RMSE: 1.6432\n"
          ]
        },
        {
          "output_type": "stream",
          "name": "stderr",
          "text": [
            "[I 2025-07-14 10:10:16,876] Trial 19 finished with value: 1.617999576146761 and parameters: {'learning_rate': 0.03978148231018176, 'depth': 6, 'l2_leaf_reg': 3.4085171699074013, 'subsample': 0.7312444830869895, 'colsample_bylevel': 0.8303380586408864}. Best is trial 13 with value: 1.6010803090447592.\n"
          ]
        },
        {
          "output_type": "stream",
          "name": "stdout",
          "text": [
            "[Seongdong] RMSE: 1.6180\n"
          ]
        },
        {
          "output_type": "stream",
          "name": "stderr",
          "text": [
            "[I 2025-07-14 10:10:17,553] Trial 20 finished with value: 1.6343473361935312 and parameters: {'learning_rate': 0.06327297809749373, 'depth': 6, 'l2_leaf_reg': 5.311307804073015, 'subsample': 0.6704284963435843, 'colsample_bylevel': 0.7892458027935778}. Best is trial 13 with value: 1.6010803090447592.\n"
          ]
        },
        {
          "output_type": "stream",
          "name": "stdout",
          "text": [
            "[Seongdong] RMSE: 1.6343\n"
          ]
        },
        {
          "output_type": "stream",
          "name": "stderr",
          "text": [
            "[I 2025-07-14 10:10:18,189] Trial 21 finished with value: 1.6043570493150172 and parameters: {'learning_rate': 0.050528876098623714, 'depth': 5, 'l2_leaf_reg': 3.982274662249506, 'subsample': 0.7671280518219895, 'colsample_bylevel': 0.8074997946642737}. Best is trial 13 with value: 1.6010803090447592.\n"
          ]
        },
        {
          "output_type": "stream",
          "name": "stdout",
          "text": [
            "[Seongdong] RMSE: 1.6044\n"
          ]
        },
        {
          "output_type": "stream",
          "name": "stderr",
          "text": [
            "[I 2025-07-14 10:10:18,832] Trial 22 finished with value: 1.6294012292240092 and parameters: {'learning_rate': 0.05326005384907381, 'depth': 5, 'l2_leaf_reg': 3.9632848907154936, 'subsample': 0.7619796374851705, 'colsample_bylevel': 0.7873780576481226}. Best is trial 13 with value: 1.6010803090447592.\n"
          ]
        },
        {
          "output_type": "stream",
          "name": "stdout",
          "text": [
            "[Seongdong] RMSE: 1.6294\n"
          ]
        },
        {
          "output_type": "stream",
          "name": "stderr",
          "text": [
            "[I 2025-07-14 10:10:19,653] Trial 23 finished with value: 1.61161190963331 and parameters: {'learning_rate': 0.0469491652279037, 'depth': 4, 'l2_leaf_reg': 3.575052782252929, 'subsample': 0.790761523350926, 'colsample_bylevel': 0.8164662816316709}. Best is trial 13 with value: 1.6010803090447592.\n"
          ]
        },
        {
          "output_type": "stream",
          "name": "stdout",
          "text": [
            "[Seongdong] RMSE: 1.6116\n"
          ]
        },
        {
          "output_type": "stream",
          "name": "stderr",
          "text": [
            "[I 2025-07-14 10:10:21,138] Trial 24 finished with value: 1.6310355023266276 and parameters: {'learning_rate': 0.06089831260270129, 'depth': 5, 'l2_leaf_reg': 4.399800261123372, 'subsample': 0.7719774627504142, 'colsample_bylevel': 0.7544827815214377}. Best is trial 13 with value: 1.6010803090447592.\n"
          ]
        },
        {
          "output_type": "stream",
          "name": "stdout",
          "text": [
            "[Seongdong] RMSE: 1.6310\n"
          ]
        },
        {
          "output_type": "stream",
          "name": "stderr",
          "text": [
            "[I 2025-07-14 10:10:22,199] Trial 25 finished with value: 1.6437344875183064 and parameters: {'learning_rate': 0.04024220297530074, 'depth': 6, 'l2_leaf_reg': 3.9947813204463203, 'subsample': 0.690730336853616, 'colsample_bylevel': 0.7192451418020005}. Best is trial 13 with value: 1.6010803090447592.\n"
          ]
        },
        {
          "output_type": "stream",
          "name": "stdout",
          "text": [
            "[Seongdong] RMSE: 1.6437\n"
          ]
        },
        {
          "output_type": "stream",
          "name": "stderr",
          "text": [
            "[I 2025-07-14 10:10:22,672] Trial 26 finished with value: 1.5880874424897657 and parameters: {'learning_rate': 0.04566515804797292, 'depth': 4, 'l2_leaf_reg': 3.178688376583687, 'subsample': 0.726637537887331, 'colsample_bylevel': 0.7908272666825271}. Best is trial 26 with value: 1.5880874424897657.\n"
          ]
        },
        {
          "output_type": "stream",
          "name": "stdout",
          "text": [
            "[Seongdong] RMSE: 1.5881\n"
          ]
        },
        {
          "output_type": "stream",
          "name": "stderr",
          "text": [
            "[I 2025-07-14 10:10:23,335] Trial 27 finished with value: 1.599786135750696 and parameters: {'learning_rate': 0.04372630665741531, 'depth': 5, 'l2_leaf_reg': 2.8500716259653722, 'subsample': 0.7297566307117036, 'colsample_bylevel': 0.7807482754337193}. Best is trial 26 with value: 1.5880874424897657.\n"
          ]
        },
        {
          "output_type": "stream",
          "name": "stdout",
          "text": [
            "[Seongdong] RMSE: 1.5998\n"
          ]
        },
        {
          "output_type": "stream",
          "name": "stderr",
          "text": [
            "[I 2025-07-14 10:10:23,780] Trial 28 finished with value: 1.6185866297487208 and parameters: {'learning_rate': 0.04191920512217883, 'depth': 4, 'l2_leaf_reg': 2.691252864532524, 'subsample': 0.7264137945756739, 'colsample_bylevel': 0.7046549391600628}. Best is trial 26 with value: 1.5880874424897657.\n"
          ]
        },
        {
          "output_type": "stream",
          "name": "stdout",
          "text": [
            "[Seongdong] RMSE: 1.6186\n"
          ]
        },
        {
          "output_type": "stream",
          "name": "stderr",
          "text": [
            "[I 2025-07-14 10:10:24,388] Trial 29 finished with value: 1.6000715364220297 and parameters: {'learning_rate': 0.036810790015322115, 'depth': 4, 'l2_leaf_reg': 2.265431879943627, 'subsample': 0.6913445312399782, 'colsample_bylevel': 0.7495985774452343}. Best is trial 26 with value: 1.5880874424897657.\n",
            "[I 2025-07-14 10:10:24,390] A new study created in memory with name: no-name-9c65447c-cc23-4e73-99ea-c12f98a67adb\n"
          ]
        },
        {
          "output_type": "stream",
          "name": "stdout",
          "text": [
            "[Seongdong] RMSE: 1.6001\n",
            "[Seongdong] Best RMSE: 1.5880874424897657\n",
            "[Seongdong] Best params: {'learning_rate': 0.04566515804797292, 'depth': 4, 'l2_leaf_reg': 3.178688376583687, 'subsample': 0.726637537887331, 'colsample_bylevel': 0.7908272666825271}\n"
          ]
        },
        {
          "output_type": "stream",
          "name": "stderr",
          "text": [
            "[I 2025-07-14 10:10:25,002] Trial 0 finished with value: 1.614778241017167 and parameters: {'learning_rate': 0.0345802686253808, 'depth': 5, 'l2_leaf_reg': 2.1434484118324617, 'subsample': 0.8842084940842906, 'colsample_bylevel': 0.5403074202718716}. Best is trial 0 with value: 1.614778241017167.\n"
          ]
        },
        {
          "output_type": "stream",
          "name": "stdout",
          "text": [
            "[Jungnang] RMSE: 1.6148\n"
          ]
        },
        {
          "output_type": "stream",
          "name": "stderr",
          "text": [
            "[I 2025-07-14 10:10:25,295] Trial 1 finished with value: 1.587198257422722 and parameters: {'learning_rate': 0.06402423363086444, 'depth': 4, 'l2_leaf_reg': 1.307921478909642, 'subsample': 0.8889556333620579, 'colsample_bylevel': 0.632932916032479}. Best is trial 1 with value: 1.587198257422722.\n"
          ]
        },
        {
          "output_type": "stream",
          "name": "stdout",
          "text": [
            "[Jungnang] RMSE: 1.5872\n"
          ]
        },
        {
          "output_type": "stream",
          "name": "stderr",
          "text": [
            "[I 2025-07-14 10:10:25,716] Trial 2 finished with value: 1.6033218868632564 and parameters: {'learning_rate': 0.056497526987802055, 'depth': 4, 'l2_leaf_reg': 2.125849713735184, 'subsample': 0.998461717113516, 'colsample_bylevel': 0.5551324495093384}. Best is trial 1 with value: 1.587198257422722.\n"
          ]
        },
        {
          "output_type": "stream",
          "name": "stdout",
          "text": [
            "[Jungnang] RMSE: 1.6033\n"
          ]
        },
        {
          "output_type": "stream",
          "name": "stderr",
          "text": [
            "[I 2025-07-14 10:10:26,237] Trial 3 finished with value: 1.625163684213462 and parameters: {'learning_rate': 0.03866714255954428, 'depth': 5, 'l2_leaf_reg': 2.5074461133757193, 'subsample': 0.9986977042849938, 'colsample_bylevel': 0.5503137111988987}. Best is trial 1 with value: 1.587198257422722.\n"
          ]
        },
        {
          "output_type": "stream",
          "name": "stdout",
          "text": [
            "[Jungnang] RMSE: 1.6252\n"
          ]
        },
        {
          "output_type": "stream",
          "name": "stderr",
          "text": [
            "[I 2025-07-14 10:10:26,666] Trial 4 finished with value: 1.605732632307516 and parameters: {'learning_rate': 0.03391906806040179, 'depth': 4, 'l2_leaf_reg': 1.9508703037384048, 'subsample': 0.8807973823412423, 'colsample_bylevel': 0.5950082025333593}. Best is trial 1 with value: 1.587198257422722.\n"
          ]
        },
        {
          "output_type": "stream",
          "name": "stdout",
          "text": [
            "[Jungnang] RMSE: 1.6057\n"
          ]
        },
        {
          "output_type": "stream",
          "name": "stderr",
          "text": [
            "[I 2025-07-14 10:10:27,192] Trial 5 finished with value: 1.6273367746110243 and parameters: {'learning_rate': 0.029542485602352914, 'depth': 4, 'l2_leaf_reg': 3.1013004259647863, 'subsample': 0.9933933391014304, 'colsample_bylevel': 0.5680610116923158}. Best is trial 1 with value: 1.587198257422722.\n"
          ]
        },
        {
          "output_type": "stream",
          "name": "stdout",
          "text": [
            "[Jungnang] RMSE: 1.6273\n"
          ]
        },
        {
          "output_type": "stream",
          "name": "stderr",
          "text": [
            "[I 2025-07-14 10:10:27,870] Trial 6 finished with value: 1.6199830644250384 and parameters: {'learning_rate': 0.052276522124938975, 'depth': 5, 'l2_leaf_reg': 3.342879943954562, 'subsample': 0.98419684396207, 'colsample_bylevel': 0.5866058052857754}. Best is trial 1 with value: 1.587198257422722.\n"
          ]
        },
        {
          "output_type": "stream",
          "name": "stdout",
          "text": [
            "[Jungnang] RMSE: 1.6200\n"
          ]
        },
        {
          "output_type": "stream",
          "name": "stderr",
          "text": [
            "[I 2025-07-14 10:10:28,349] Trial 7 finished with value: 1.61407356132136 and parameters: {'learning_rate': 0.06490851783788765, 'depth': 5, 'l2_leaf_reg': 3.199457671403514, 'subsample': 0.9716408399642267, 'colsample_bylevel': 0.5849190149307073}. Best is trial 1 with value: 1.587198257422722.\n"
          ]
        },
        {
          "output_type": "stream",
          "name": "stdout",
          "text": [
            "[Jungnang] RMSE: 1.6141\n"
          ]
        },
        {
          "output_type": "stream",
          "name": "stderr",
          "text": [
            "[I 2025-07-14 10:10:28,716] Trial 8 finished with value: 1.620046245479755 and parameters: {'learning_rate': 0.040206347286865236, 'depth': 4, 'l2_leaf_reg': 2.7209348979159973, 'subsample': 0.985896112715957, 'colsample_bylevel': 0.5252317779772327}. Best is trial 1 with value: 1.587198257422722.\n"
          ]
        },
        {
          "output_type": "stream",
          "name": "stdout",
          "text": [
            "[Jungnang] RMSE: 1.6200\n"
          ]
        },
        {
          "output_type": "stream",
          "name": "stderr",
          "text": [
            "[I 2025-07-14 10:10:29,240] Trial 9 finished with value: 1.628294174200258 and parameters: {'learning_rate': 0.031107999611065584, 'depth': 4, 'l2_leaf_reg': 3.409381535698929, 'subsample': 0.9490426252623727, 'colsample_bylevel': 0.503801807730458}. Best is trial 1 with value: 1.587198257422722.\n"
          ]
        },
        {
          "output_type": "stream",
          "name": "stdout",
          "text": [
            "[Jungnang] RMSE: 1.6283\n"
          ]
        },
        {
          "output_type": "stream",
          "name": "stderr",
          "text": [
            "[I 2025-07-14 10:10:29,548] Trial 10 finished with value: 1.6008076646536313 and parameters: {'learning_rate': 0.08453720480159972, 'depth': 4, 'l2_leaf_reg': 1.705429705172337, 'subsample': 0.9105182662939535, 'colsample_bylevel': 0.6470291553976703}. Best is trial 1 with value: 1.587198257422722.\n"
          ]
        },
        {
          "output_type": "stream",
          "name": "stdout",
          "text": [
            "[Jungnang] RMSE: 1.6008\n"
          ]
        },
        {
          "output_type": "stream",
          "name": "stderr",
          "text": [
            "[I 2025-07-14 10:10:29,880] Trial 11 finished with value: 1.5940055574397742 and parameters: {'learning_rate': 0.08363529885981, 'depth': 4, 'l2_leaf_reg': 1.3041418751863656, 'subsample': 0.9114423049060685, 'colsample_bylevel': 0.6482102351847211}. Best is trial 1 with value: 1.587198257422722.\n"
          ]
        },
        {
          "output_type": "stream",
          "name": "stdout",
          "text": [
            "[Jungnang] RMSE: 1.5940\n"
          ]
        },
        {
          "output_type": "stream",
          "name": "stderr",
          "text": [
            "[I 2025-07-14 10:10:30,139] Trial 12 finished with value: 1.6169079880546584 and parameters: {'learning_rate': 0.08103194766848529, 'depth': 4, 'l2_leaf_reg': 1.2960447390476548, 'subsample': 0.9126386215458984, 'colsample_bylevel': 0.6476509221019844}. Best is trial 1 with value: 1.587198257422722.\n"
          ]
        },
        {
          "output_type": "stream",
          "name": "stdout",
          "text": [
            "[Jungnang] RMSE: 1.6169\n"
          ]
        },
        {
          "output_type": "stream",
          "name": "stderr",
          "text": [
            "[I 2025-07-14 10:10:30,474] Trial 13 finished with value: 1.5941295805352487 and parameters: {'learning_rate': 0.06739551229493601, 'depth': 4, 'l2_leaf_reg': 1.3103790930978674, 'subsample': 0.907235858840753, 'colsample_bylevel': 0.6113512457117427}. Best is trial 1 with value: 1.587198257422722.\n"
          ]
        },
        {
          "output_type": "stream",
          "name": "stdout",
          "text": [
            "[Jungnang] RMSE: 1.5941\n"
          ]
        },
        {
          "output_type": "stream",
          "name": "stderr",
          "text": [
            "[I 2025-07-14 10:10:30,832] Trial 14 finished with value: 1.5861471801300724 and parameters: {'learning_rate': 0.06998147666938433, 'depth': 4, 'l2_leaf_reg': 1.6154859098030245, 'subsample': 0.9286923353131603, 'colsample_bylevel': 0.6213272455184321}. Best is trial 14 with value: 1.5861471801300724.\n"
          ]
        },
        {
          "output_type": "stream",
          "name": "stdout",
          "text": [
            "[Jungnang] RMSE: 1.5861\n"
          ]
        },
        {
          "output_type": "stream",
          "name": "stderr",
          "text": [
            "[I 2025-07-14 10:10:31,234] Trial 15 finished with value: 1.580077495218019 and parameters: {'learning_rate': 0.0668565454447793, 'depth': 4, 'l2_leaf_reg': 3.821510632229497, 'subsample': 0.9358828424429462, 'colsample_bylevel': 0.6213002381771915}. Best is trial 15 with value: 1.580077495218019.\n"
          ]
        },
        {
          "output_type": "stream",
          "name": "stdout",
          "text": [
            "[Jungnang] RMSE: 1.5801\n"
          ]
        },
        {
          "output_type": "stream",
          "name": "stderr",
          "text": [
            "[I 2025-07-14 10:10:31,818] Trial 16 finished with value: 1.5828823294247647 and parameters: {'learning_rate': 0.07174405555836454, 'depth': 4, 'l2_leaf_reg': 3.7950305292132724, 'subsample': 0.9376461534805384, 'colsample_bylevel': 0.6145414901463953}. Best is trial 15 with value: 1.580077495218019.\n"
          ]
        },
        {
          "output_type": "stream",
          "name": "stdout",
          "text": [
            "[Jungnang] RMSE: 1.5829\n"
          ]
        },
        {
          "output_type": "stream",
          "name": "stderr",
          "text": [
            "[I 2025-07-14 10:10:32,654] Trial 17 finished with value: 1.6395969568167788 and parameters: {'learning_rate': 0.04743103012717944, 'depth': 5, 'l2_leaf_reg': 3.7174838313506395, 'subsample': 0.9484023398310059, 'colsample_bylevel': 0.6043366510131046}. Best is trial 15 with value: 1.580077495218019.\n"
          ]
        },
        {
          "output_type": "stream",
          "name": "stdout",
          "text": [
            "[Jungnang] RMSE: 1.6396\n"
          ]
        },
        {
          "output_type": "stream",
          "name": "stderr",
          "text": [
            "[I 2025-07-14 10:10:33,917] Trial 18 finished with value: 1.6063691435596044 and parameters: {'learning_rate': 0.07396834626491369, 'depth': 4, 'l2_leaf_reg': 3.7148326719683684, 'subsample': 0.963139128618517, 'colsample_bylevel': 0.6228216470911427}. Best is trial 15 with value: 1.580077495218019.\n"
          ]
        },
        {
          "output_type": "stream",
          "name": "stdout",
          "text": [
            "[Jungnang] RMSE: 1.6064\n"
          ]
        },
        {
          "output_type": "stream",
          "name": "stderr",
          "text": [
            "[I 2025-07-14 10:10:34,603] Trial 19 finished with value: 1.6163162089666883 and parameters: {'learning_rate': 0.05760255901105428, 'depth': 4, 'l2_leaf_reg': 3.8059331419728393, 'subsample': 0.9307870564371354, 'colsample_bylevel': 0.6066691209608596}. Best is trial 15 with value: 1.580077495218019.\n"
          ]
        },
        {
          "output_type": "stream",
          "name": "stdout",
          "text": [
            "[Jungnang] RMSE: 1.6163\n"
          ]
        },
        {
          "output_type": "stream",
          "name": "stderr",
          "text": [
            "[I 2025-07-14 10:10:35,168] Trial 20 finished with value: 1.6349484037148985 and parameters: {'learning_rate': 0.04586255218020677, 'depth': 5, 'l2_leaf_reg': 2.769243432146518, 'subsample': 0.9438334474491961, 'colsample_bylevel': 0.630112980154117}. Best is trial 15 with value: 1.580077495218019.\n"
          ]
        },
        {
          "output_type": "stream",
          "name": "stdout",
          "text": [
            "[Jungnang] RMSE: 1.6349\n"
          ]
        },
        {
          "output_type": "stream",
          "name": "stderr",
          "text": [
            "[I 2025-07-14 10:10:35,462] Trial 21 finished with value: 1.616369657762392 and parameters: {'learning_rate': 0.07409070797693454, 'depth': 4, 'l2_leaf_reg': 3.4766361324242405, 'subsample': 0.927782803341043, 'colsample_bylevel': 0.6232783014247558}. Best is trial 15 with value: 1.580077495218019.\n"
          ]
        },
        {
          "output_type": "stream",
          "name": "stdout",
          "text": [
            "[Jungnang] RMSE: 1.6164\n"
          ]
        },
        {
          "output_type": "stream",
          "name": "stderr",
          "text": [
            "[I 2025-07-14 10:10:35,774] Trial 22 finished with value: 1.6042402458214278 and parameters: {'learning_rate': 0.0720241658471453, 'depth': 4, 'l2_leaf_reg': 2.9048159857143894, 'subsample': 0.9266049884397352, 'colsample_bylevel': 0.6152955310593415}. Best is trial 15 with value: 1.580077495218019.\n"
          ]
        },
        {
          "output_type": "stream",
          "name": "stdout",
          "text": [
            "[Jungnang] RMSE: 1.6042\n"
          ]
        },
        {
          "output_type": "stream",
          "name": "stderr",
          "text": [
            "[I 2025-07-14 10:10:36,207] Trial 23 finished with value: 1.6096926481706821 and parameters: {'learning_rate': 0.05846296139127733, 'depth': 4, 'l2_leaf_reg': 2.3691242745155408, 'subsample': 0.959355789589494, 'colsample_bylevel': 0.5960188317053383}. Best is trial 15 with value: 1.580077495218019.\n"
          ]
        },
        {
          "output_type": "stream",
          "name": "stdout",
          "text": [
            "[Jungnang] RMSE: 1.6097\n"
          ]
        },
        {
          "output_type": "stream",
          "name": "stderr",
          "text": [
            "[I 2025-07-14 10:10:36,680] Trial 24 finished with value: 1.5841466723928022 and parameters: {'learning_rate': 0.061828810197949204, 'depth': 4, 'l2_leaf_reg': 1.6477088752357418, 'subsample': 0.9380912653842243, 'colsample_bylevel': 0.6347287777090022}. Best is trial 15 with value: 1.580077495218019.\n"
          ]
        },
        {
          "output_type": "stream",
          "name": "stdout",
          "text": [
            "[Jungnang] RMSE: 1.5841\n"
          ]
        },
        {
          "output_type": "stream",
          "name": "stderr",
          "text": [
            "[I 2025-07-14 10:10:37,103] Trial 25 finished with value: 1.6219781855236666 and parameters: {'learning_rate': 0.05227913447751938, 'depth': 4, 'l2_leaf_reg': 3.6149848277918597, 'subsample': 0.9408861456368025, 'colsample_bylevel': 0.6371764010005685}. Best is trial 15 with value: 1.580077495218019.\n"
          ]
        },
        {
          "output_type": "stream",
          "name": "stdout",
          "text": [
            "[Jungnang] RMSE: 1.6220\n"
          ]
        },
        {
          "output_type": "stream",
          "name": "stderr",
          "text": [
            "[I 2025-07-14 10:10:37,426] Trial 26 finished with value: 1.6322971839556784 and parameters: {'learning_rate': 0.060975771925559315, 'depth': 4, 'l2_leaf_reg': 3.1489281999849483, 'subsample': 0.956381278509109, 'colsample_bylevel': 0.5730363492543471}. Best is trial 15 with value: 1.580077495218019.\n"
          ]
        },
        {
          "output_type": "stream",
          "name": "stdout",
          "text": [
            "[Jungnang] RMSE: 1.6323\n"
          ]
        },
        {
          "output_type": "stream",
          "name": "stderr",
          "text": [
            "[I 2025-07-14 10:10:37,933] Trial 27 finished with value: 1.5840405136006257 and parameters: {'learning_rate': 0.07677838716783306, 'depth': 4, 'l2_leaf_reg': 3.5276659780088537, 'subsample': 0.9208065753532612, 'colsample_bylevel': 0.63601340123718}. Best is trial 15 with value: 1.580077495218019.\n"
          ]
        },
        {
          "output_type": "stream",
          "name": "stdout",
          "text": [
            "[Jungnang] RMSE: 1.5840\n"
          ]
        },
        {
          "output_type": "stream",
          "name": "stderr",
          "text": [
            "[I 2025-07-14 10:10:38,252] Trial 28 finished with value: 1.6259961588138858 and parameters: {'learning_rate': 0.07779094821839252, 'depth': 4, 'l2_leaf_reg': 3.5510561228291944, 'subsample': 0.8974776029570453, 'colsample_bylevel': 0.5983804684916789}. Best is trial 15 with value: 1.580077495218019.\n"
          ]
        },
        {
          "output_type": "stream",
          "name": "stdout",
          "text": [
            "[Jungnang] RMSE: 1.6260\n"
          ]
        },
        {
          "output_type": "stream",
          "name": "stderr",
          "text": [
            "[I 2025-07-14 10:10:38,873] Trial 29 finished with value: 1.6021417832040867 and parameters: {'learning_rate': 0.07718114573097287, 'depth': 5, 'l2_leaf_reg': 3.799525485560225, 'subsample': 0.9198897218291756, 'colsample_bylevel': 0.5843835999739431}. Best is trial 15 with value: 1.580077495218019.\n"
          ]
        },
        {
          "output_type": "stream",
          "name": "stdout",
          "text": [
            "[Jungnang] RMSE: 1.6021\n",
            "[Jungnang] Best RMSE: 1.580077495218019\n",
            "[Jungnang] Best params: {'learning_rate': 0.0668565454447793, 'depth': 4, 'l2_leaf_reg': 3.821510632229497, 'subsample': 0.9358828424429462, 'colsample_bylevel': 0.6213002381771915}\n",
            "\n",
            "=== 모든 구별 Optuna Best RMSE & Params 요약 ===\n",
            "| 구         |   Best RMSE | Best Params                                                                                                                                                      |\n",
            "|:-----------|------------:|:-----------------------------------------------------------------------------------------------------------------------------------------------------------------|\n",
            "| Gwangjin   |      1.5771 | {'learning_rate': 0.08274872359856976, 'depth': 4, 'l2_leaf_reg': 1.1410925774848972, 'subsample': 0.7734725349254379, 'colsample_bylevel': 0.7102923892324475}  |\n",
            "| Dongdaemun |      1.5761 | {'learning_rate': 0.043837413168812706, 'depth': 5, 'l2_leaf_reg': 3.4410785537257955, 'subsample': 0.9623938396990745, 'colsample_bylevel': 0.9159718519959165} |\n",
            "| Seongdong  |      1.5881 | {'learning_rate': 0.04566515804797292, 'depth': 4, 'l2_leaf_reg': 3.178688376583687, 'subsample': 0.726637537887331, 'colsample_bylevel': 0.7908272666825271}    |\n",
            "| Jungnang   |      1.5801 | {'learning_rate': 0.0668565454447793, 'depth': 4, 'l2_leaf_reg': 3.821510632229497, 'subsample': 0.9358828424429462, 'colsample_bylevel': 0.6213002381771915}    |\n"
          ]
        }
      ]
    },
    {
      "cell_type": "code",
      "source": [],
      "metadata": {
        "id": "78fAhWX1P_sy"
      },
      "execution_count": null,
      "outputs": []
    }
  ]
}